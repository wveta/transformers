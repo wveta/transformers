{
  "cells": [
    {
      "cell_type": "markdown",
      "metadata": {
        "id": "BjpXhqlD3YB9"
      },
      "source": [
        "Create compression version of GPT-2 nad BERT model and save the memory =)"
      ]
    },
    {
      "cell_type": "markdown",
      "metadata": {
        "id": "AVF7iwDE3YCD"
      },
      "source": [
        "# Transformer-based model compression tutorial\n",
        "\n",
        "Seminar prepared by Vika Chekalina\n",
        "\n",
        "In this notebook we will go through the process of GPT-2/BERT compression.\n",
        "\n",
        "## Brief reminder:\n",
        "\n",
        "### Why do we need GPT-2 compression?\n",
        "\n",
        "- To reduce disk space consumption\n",
        "- To accelerate model inference\n",
        "- To reduce energy consumption\n",
        "\n",
        "### GPT-2 compression pipeline\n",
        "\n",
        "1) Extract fully-connected (transformers.conv1D()) from pretrained GPT-2\n",
        "\n",
        "2) Decompose it with linear algebra decomposition method\n",
        "\n",
        "3) Replace initial fully-connected layer with factorized layer\n",
        "\n",
        "4) Fine-tune model to recover performance degradation\n",
        "\n",
        "\n",
        "## Let's go through all of the stages in the pipeline"
      ]
    },
    {
      "cell_type": "code",
      "execution_count": 1,
      "metadata": {
        "id": "b0tazb1c3YCF"
      },
      "outputs": [],
      "source": [
        "device = 'cuda'"
      ]
    },
    {
      "cell_type": "code",
      "execution_count": 2,
      "metadata": {
        "colab": {
          "base_uri": "https://localhost:8080/"
        },
        "id": "w-xt_6Gx3j56",
        "outputId": "625b3f70-c597-4866-9481-8d01f85839bc"
      },
      "outputs": [
        {
          "output_type": "stream",
          "name": "stdout",
          "text": [
            "Requirement already satisfied: transformers in /usr/local/lib/python3.10/dist-packages (4.31.0)\n",
            "Requirement already satisfied: filelock in /usr/local/lib/python3.10/dist-packages (from transformers) (3.12.2)\n",
            "Requirement already satisfied: huggingface-hub<1.0,>=0.14.1 in /usr/local/lib/python3.10/dist-packages (from transformers) (0.16.4)\n",
            "Requirement already satisfied: numpy>=1.17 in /usr/local/lib/python3.10/dist-packages (from transformers) (1.22.4)\n",
            "Requirement already satisfied: packaging>=20.0 in /usr/local/lib/python3.10/dist-packages (from transformers) (23.1)\n",
            "Requirement already satisfied: pyyaml>=5.1 in /usr/local/lib/python3.10/dist-packages (from transformers) (6.0)\n",
            "Requirement already satisfied: regex!=2019.12.17 in /usr/local/lib/python3.10/dist-packages (from transformers) (2022.10.31)\n",
            "Requirement already satisfied: requests in /usr/local/lib/python3.10/dist-packages (from transformers) (2.27.1)\n",
            "Requirement already satisfied: tokenizers!=0.11.3,<0.14,>=0.11.1 in /usr/local/lib/python3.10/dist-packages (from transformers) (0.13.3)\n",
            "Requirement already satisfied: safetensors>=0.3.1 in /usr/local/lib/python3.10/dist-packages (from transformers) (0.3.1)\n",
            "Requirement already satisfied: tqdm>=4.27 in /usr/local/lib/python3.10/dist-packages (from transformers) (4.65.0)\n",
            "Requirement already satisfied: fsspec in /usr/local/lib/python3.10/dist-packages (from huggingface-hub<1.0,>=0.14.1->transformers) (2023.6.0)\n",
            "Requirement already satisfied: typing-extensions>=3.7.4.3 in /usr/local/lib/python3.10/dist-packages (from huggingface-hub<1.0,>=0.14.1->transformers) (4.7.1)\n",
            "Requirement already satisfied: urllib3<1.27,>=1.21.1 in /usr/local/lib/python3.10/dist-packages (from requests->transformers) (1.26.16)\n",
            "Requirement already satisfied: certifi>=2017.4.17 in /usr/local/lib/python3.10/dist-packages (from requests->transformers) (2023.5.7)\n",
            "Requirement already satisfied: charset-normalizer~=2.0.0 in /usr/local/lib/python3.10/dist-packages (from requests->transformers) (2.0.12)\n",
            "Requirement already satisfied: idna<4,>=2.5 in /usr/local/lib/python3.10/dist-packages (from requests->transformers) (3.4)\n"
          ]
        }
      ],
      "source": [
        "!pip3 install transformers"
      ]
    },
    {
      "cell_type": "code",
      "execution_count": 25,
      "metadata": {
        "id": "Ku-vaYsh3YCI"
      },
      "outputs": [],
      "source": [
        "from transformers import GPT2Model, GPT2Config, GPT2LMHeadModel\n",
        "\n",
        "# Initializing a GPT2 configuration\n",
        "configuration = GPT2Config()\n",
        "\n",
        "# Initializing a model from the configuration\n",
        "model = GPT2LMHeadModel(configuration).from_pretrained(\"gpt2\",\n",
        "                                                return_dict=True,\n",
        "                                                is_decoder=True)\n",
        "outt = model.to(device)"
      ]
    },
    {
      "cell_type": "code",
      "execution_count": 3,
      "metadata": {
        "id": "HapEmfkmBUoc"
      },
      "outputs": [],
      "source": [
        "import torch\n",
        "from torch import nn\n",
        "import numpy as np"
      ]
    },
    {
      "cell_type": "markdown",
      "metadata": {
        "id": "PHCKeUWk3YCK"
      },
      "source": [
        "Count parameters number"
      ]
    },
    {
      "cell_type": "code",
      "execution_count": 27,
      "metadata": {
        "colab": {
          "base_uri": "https://localhost:8080/"
        },
        "id": "_WrlBb4R3YCL",
        "outputId": "ae4b4049-54ef-442b-f79c-fe72011922f6"
      },
      "outputs": [
        {
          "output_type": "stream",
          "name": "stdout",
          "text": [
            "num parameters in model 124439808\n"
          ]
        }
      ],
      "source": [
        "print (\"num parameters in model\", model.num_parameters()) #124 mln"
      ]
    },
    {
      "cell_type": "markdown",
      "metadata": {
        "id": "Ci96e-xx3YCO"
      },
      "source": [
        "We will validate a pre-trained language GPT-2 model on a validation part **Wikitext-103** dataset.\n",
        "\n",
        "To create a validation dataset we should:\n",
        "    \n",
        "- download archieved dataset\n",
        "- extract it\n",
        "- wrap tran and test parts in TextDataset and further Dataloader class"
      ]
    },
    {
      "cell_type": "code",
      "execution_count": 28,
      "metadata": {
        "colab": {
          "base_uri": "https://localhost:8080/"
        },
        "id": "vBKz5osP5aJn",
        "outputId": "4151dd2e-0727-46ac-e06b-6b7ea604649b"
      },
      "outputs": [
        {
          "output_type": "stream",
          "name": "stdout",
          "text": [
            "/content\n",
            "  % Total    % Received % Xferd  Average Speed   Time    Time     Time  Current\n",
            "                                 Dload  Upload   Total   Spent    Left  Speed\n",
            "100  181M  100  181M    0     0  69.8M      0  0:00:02  0:00:02 --:--:-- 69.8M\n"
          ]
        }
      ],
      "source": [
        "!pwd\n",
        "!curl https://s3.amazonaws.com/research.metamind.io/wikitext/wikitext-103-v1.zip -o wikitext-103-v1.zip"
      ]
    },
    {
      "cell_type": "code",
      "execution_count": 7,
      "metadata": {
        "colab": {
          "base_uri": "https://localhost:8080/"
        },
        "id": "xubHwNDl3txJ",
        "outputId": "20b0ceca-c80c-46f9-92f7-decc4b096631"
      },
      "outputs": [
        {
          "output_type": "stream",
          "name": "stdout",
          "text": [
            "Archive:  wikitext-103-v1.zip\n",
            "   creating: wikitext-103/\n",
            "  inflating: wikitext-103/wiki.test.tokens  \n",
            "  inflating: wikitext-103/wiki.valid.tokens  \n",
            "  inflating: wikitext-103/wiki.train.tokens  \n",
            "sample_data  wikitext-103  wikitext-103-v1.zip\n"
          ]
        }
      ],
      "source": [
        "\n",
        "!unzip wikitext-103-v1.zip\n",
        "!ls"
      ]
    },
    {
      "cell_type": "markdown",
      "metadata": {
        "id": "uGOdDVX83YCR"
      },
      "source": [
        "Create a validation dataset and measure perplexity of regular GPT-2"
      ]
    },
    {
      "cell_type": "code",
      "execution_count": 8,
      "metadata": {
        "colab": {
          "base_uri": "https://localhost:8080/",
          "height": 136,
          "referenced_widgets": [
            "30a52f7a34b5472fa2f2efbbae7ca015",
            "56c99090ade34b3099c6d09a736b0711",
            "aab854314d6e41d6ab066af991d1e0d5",
            "007f49db794840bdb81f665e34ba8105",
            "2f16fb2ca831408492c48d35e6e4eb35",
            "9f9b618f1c6749e792bae2d4c6808921",
            "d9fb4f73805b467c90758a24267d84e7",
            "a2faf5df81cc4c54a26fd61155680fa0",
            "11fcd1cea30b4542b0d787b96f5ffae5",
            "e7f93bc329324694a050f75079617d84",
            "b67dd1a3622c4f5dabb780e07a152e40",
            "fd991bbbf7fc4dcb98dc2906597207db",
            "74a2145e42b744d890770c49403f4e08",
            "a651b814d3a04bfe8cc0c389512585ff",
            "28c4493e865c45c3997b7e4fd5bd46cd",
            "f26c052806c94113bc91af6bd7d90174",
            "4a0c8e90fb6640ccbb6530d47f49e011",
            "0654033d383344ee8ef473cb740c648f",
            "3eb7201671e94ff4b86fc55ddf4296e1",
            "9efcecf4819a4e40a6d783ad46f27ee8",
            "d9ce7081faef4165a39cfe406a90f382",
            "a9eccb6b417147a2bd17db9f8999372e"
          ]
        },
        "id": "1eSWBbuY3YCX",
        "outputId": "be07a7c9-9c8f-4847-9d03-73615b393991"
      },
      "outputs": [
        {
          "output_type": "display_data",
          "data": {
            "text/plain": [
              "Downloading (…)olve/main/vocab.json:   0%|          | 0.00/1.04M [00:00<?, ?B/s]"
            ],
            "application/vnd.jupyter.widget-view+json": {
              "version_major": 2,
              "version_minor": 0,
              "model_id": "30a52f7a34b5472fa2f2efbbae7ca015"
            }
          },
          "metadata": {}
        },
        {
          "output_type": "display_data",
          "data": {
            "text/plain": [
              "Downloading (…)olve/main/merges.txt:   0%|          | 0.00/456k [00:00<?, ?B/s]"
            ],
            "application/vnd.jupyter.widget-view+json": {
              "version_major": 2,
              "version_minor": 0,
              "model_id": "fd991bbbf7fc4dcb98dc2906597207db"
            }
          },
          "metadata": {}
        },
        {
          "output_type": "stream",
          "name": "stderr",
          "text": [
            "/usr/local/lib/python3.10/dist-packages/transformers/data/datasets/language_modeling.py:53: FutureWarning: This dataset will be removed from the library soon, preprocessing should be handled with the 🤗 Datasets library. You can have a look at this example script for pointers: https://github.com/huggingface/transformers/blob/main/examples/pytorch/language-modeling/run_mlm.py\n",
            "  warnings.warn(\n"
          ]
        }
      ],
      "source": [
        "from torch.utils.data import DataLoader, RandomSampler\n",
        "from transformers import GPT2Tokenizer\n",
        "from transformers import TextDataset\n",
        "tokenizer = GPT2Tokenizer.from_pretrained(\"gpt2\")\n",
        "\n",
        "\n",
        "dataset_valid = TextDataset(tokenizer=tokenizer,\n",
        "                                file_path=\"/content/wikitext-103/wiki.valid.tokens\",\n",
        "                                block_size=512)\n",
        "\n",
        "dataset_test = TextDataset(tokenizer=tokenizer,\n",
        "                                file_path=\"/content/wikitext-103/wiki.test.tokens\", block_size=512)\n",
        "len(dataset_valid), len(dataset_test)\n",
        "\n",
        "eval_dataloader = DataLoader(dataset_valid, batch_size=10)"
      ]
    },
    {
      "cell_type": "markdown",
      "metadata": {
        "id": "DJgWvPbp3YCd"
      },
      "source": [
        "Validate model and calculate a perplexity:"
      ]
    },
    {
      "cell_type": "code",
      "execution_count": 9,
      "metadata": {
        "id": "9JVtPbFv3YCj"
      },
      "outputs": [],
      "source": [
        "from tqdm import tqdm\n",
        "model.eval()\n",
        "import torch\n",
        "\n",
        "def evaluate(model):\n",
        "    losses = []\n",
        "    eval_loss = 0.0\n",
        "    perplexity = 0.0\n",
        "    nb_eval_steps = 0\n",
        "    for batch in tqdm(eval_dataloader, desc=\"Evaluating\"):\n",
        "        inputs, labels = (batch, batch)\n",
        "        inputs = inputs.to(device)\n",
        "        labels = labels.to(device)\n",
        "\n",
        "        with torch.no_grad():\n",
        "            outputs = model(inputs, labels=labels)\n",
        "            lm_loss = outputs[0]\n",
        "            eval_loss += lm_loss.mean().item()\n",
        "            perplexity += torch.exp(torch.tensor(eval_loss))\n",
        "            losses.append(eval_loss)\n",
        "        nb_eval_steps += 1\n",
        "\n",
        "    eval_loss = eval_loss / nb_eval_steps\n",
        "\n",
        "    perplexity = torch.exp(torch.tensor(eval_loss))\n",
        "    perplexity = perplexity\n",
        "    return perplexity"
      ]
    },
    {
      "cell_type": "code",
      "execution_count": 10,
      "metadata": {
        "colab": {
          "base_uri": "https://localhost:8080/"
        },
        "id": "e3O7hZ333YCq",
        "outputId": "54e1c306-e636-48c2-af8e-7190f0ed36fe"
      },
      "outputs": [
        {
          "output_type": "stream",
          "name": "stderr",
          "text": [
            "Evaluating: 100%|██████████| 49/49 [00:22<00:00,  2.13it/s]\n"
          ]
        },
        {
          "output_type": "execute_result",
          "data": {
            "text/plain": [
              "tensor(35.1143)"
            ]
          },
          "metadata": {},
          "execution_count": 10
        }
      ],
      "source": [
        "perplexity = evaluate(model)\n",
        "perplexity"
      ]
    },
    {
      "cell_type": "code",
      "execution_count": 11,
      "metadata": {
        "colab": {
          "base_uri": "https://localhost:8080/"
        },
        "id": "O3cLEsbhbOrr",
        "outputId": "687c81b6-f765-4d29-a3c9-ffc2e957307a"
      },
      "outputs": [
        {
          "output_type": "execute_result",
          "data": {
            "text/plain": [
              "GPT2Block(\n",
              "  (ln_1): LayerNorm((768,), eps=1e-05, elementwise_affine=True)\n",
              "  (attn): GPT2Attention(\n",
              "    (c_attn): Conv1D()\n",
              "    (c_proj): Conv1D()\n",
              "    (attn_dropout): Dropout(p=0.1, inplace=False)\n",
              "    (resid_dropout): Dropout(p=0.1, inplace=False)\n",
              "  )\n",
              "  (ln_2): LayerNorm((768,), eps=1e-05, elementwise_affine=True)\n",
              "  (mlp): GPT2MLP(\n",
              "    (c_fc): Conv1D()\n",
              "    (c_proj): Conv1D()\n",
              "    (act): NewGELUActivation()\n",
              "    (dropout): Dropout(p=0.1, inplace=False)\n",
              "  )\n",
              ")"
            ]
          },
          "metadata": {},
          "execution_count": 11
        }
      ],
      "source": [
        "model.transformer.h[1]"
      ]
    },
    {
      "cell_type": "code",
      "execution_count": 12,
      "metadata": {
        "colab": {
          "base_uri": "https://localhost:8080/"
        },
        "id": "1loUt8ZjRciK",
        "outputId": "743331bd-7a8f-4802-c059-00c6659ef1fd"
      },
      "outputs": [
        {
          "output_type": "execute_result",
          "data": {
            "text/plain": [
              "torch.Size([3072, 768])"
            ]
          },
          "metadata": {},
          "execution_count": 12
        }
      ],
      "source": [
        "model.transformer.h[1].mlp.c_proj.weight.shape"
      ]
    },
    {
      "cell_type": "markdown",
      "metadata": {
        "id": "SbTPSv3BzX-b"
      },
      "source": [
        "Let's generate text to ensure that model is good."
      ]
    },
    {
      "cell_type": "code",
      "execution_count": 13,
      "metadata": {
        "id": "nCjz-pTTzqy1"
      },
      "outputs": [],
      "source": [
        "seq_len = 512"
      ]
    },
    {
      "cell_type": "code",
      "execution_count": 14,
      "metadata": {
        "id": "K8j3aKX7zYnt",
        "colab": {
          "base_uri": "https://localhost:8080/"
        },
        "outputId": "bc57f7c0-d85f-4c1c-a2d6-d999be25730e"
      },
      "outputs": [
        {
          "output_type": "stream",
          "name": "stderr",
          "text": [
            "2it [00:00, 16.98it/s]"
          ]
        },
        {
          "output_type": "stream",
          "name": "stdout",
          "text": [
            "\n",
            "\n",
            "input_ids[0][-20:]  lobster, Homarus americanus. The two species\n",
            "\n",
            "\n",
            "label_ids[0][-21:]  American lobster, Homarus americanus. The two species\n",
            "\n",
            "\n",
            "output , Harus gamanus. It American species are\n",
            "\n",
            "\n",
            "\n",
            "\n",
            "\n",
            "\n",
            "\n",
            "\n",
            "\n",
            "input_ids[0][-20:]  National Forest. The east end of M @-\n",
            "\n",
            "\n",
            "label_ids[0][-21:] ee National Forest. The east end of M @-\n",
            "\n",
            "\n",
            "output  Forest. The highwaybound of the @-@\n",
            "\n",
            "\n",
            "\n",
            "\n",
            "\n",
            "\n",
            "\n",
            "\n",
            "\n",
            "input_ids[0][-20:]  as a liaison between the organizations. Plans were underway\n",
            "\n",
            "\n",
            "label_ids[0][-21:]  serves as a liaison between the organizations. Plans were underway\n",
            "\n",
            "\n",
            "output  a liaison between the Meridian and  for made to\n",
            "\n",
            "\n",
            "\n",
            "\n",
            "\n",
            "\n",
            "\n",
            "\n",
            "\n",
            "input_ids[0][-20:]  @-@ seat auditorium for live performances,\n",
            "\n",
            "\n",
            "label_ids[0][-21:]  950 @-@ seat auditorium for live performances,\n",
            "\n",
            "\n",
            "output ,@ and,ium, the performances, is\n",
            "\n",
            "\n",
            "\n",
            "\n",
            "\n",
            "\n",
            "\n"
          ]
        },
        {
          "output_type": "stream",
          "name": "stderr",
          "text": [
            "8it [00:00, 20.73it/s]"
          ]
        },
        {
          "output_type": "stream",
          "name": "stdout",
          "text": [
            "\n",
            "\n",
            "input_ids[0][-20:]  @,@ \n",
            " Fred and Al Key,\n",
            "\n",
            "\n",
            "label_ids[0][-21:]  1964 @,@ \n",
            " Fred and Al Key,\n",
            "\n",
            "\n",
            "output ,@ \n",
            "\n",
            "rick Mary <es the\n",
            "\n",
            "\n",
            "\n",
            "\n",
            "\n",
            "\n",
            "\n",
            "\n",
            "\n",
            "input_ids[0][-20:] le was the villain. \n",
            " \n",
            " =\n",
            "\n",
            "\n",
            "label_ids[0][-21:] engele was the villain. \n",
            " \n",
            " =\n",
            "\n",
            "\n",
            "output  is a main. \n",
            " \"\n",
            " = =\n",
            "\n",
            "\n",
            "\n",
            "\n",
            "\n",
            "\n",
            "\n",
            "\n",
            "\n",
            "input_ids[0][-20:] @ northwesterly track in response to a\n",
            "\n",
            "\n",
            "label_ids[0][-21:] -@ northwesterly track in response to a\n",
            "\n",
            "\n",
            "output  orientationwardesterly direction, the to the strong\n",
            "\n",
            "\n",
            "\n",
            "\n",
            "\n",
            "\n",
            "\n",
            "\n",
            "\n",
            "input_ids[0][-20:]  is shown standing in a cage opposite to a number\n",
            "\n",
            "\n",
            "label_ids[0][-21:]  Madonna is shown standing in a cage opposite to a number\n",
            "\n",
            "\n",
            "output  singing dancing in front white with the the man of\n",
            "\n",
            "\n",
            "\n",
            "\n",
            "\n",
            "\n",
            "\n",
            "\n",
            "\n",
            "input_ids[0][-20:] -@ lap sprint, Richmond competed in a three\n",
            "\n",
            "\n",
            "label_ids[0][-21:]  @-@ lap sprint, Richmond competed in a three\n",
            "\n",
            "\n",
            "output @ race,, Richmond took in the race @\n",
            "\n",
            "\n",
            "\n",
            "\n",
            "\n",
            "\n",
            "\n"
          ]
        },
        {
          "output_type": "stream",
          "name": "stderr",
          "text": [
            "\r10it [00:00, 18.60it/s]"
          ]
        },
        {
          "output_type": "stream",
          "name": "stdout",
          "text": [
            "\n",
            "\n",
            "input_ids[0][-20:]  well @-@ being of ranchers. In\n",
            "\n",
            "\n",
            "label_ids[0][-21:]  economic well @-@ being of ranchers. In\n",
            "\n",
            "\n",
            "output --@ needs of localhers.  addition\n",
            "\n",
            "\n",
            "\n",
            "\n",
            "\n",
            "\n",
            "\n",
            "\n",
            "\n",
            "input_ids[0][-20:]  for their first road win in Illinois since 1995.\n",
            "\n",
            "\n",
            "label_ids[0][-21:]  Illinois for their first road win in Illinois since 1995.\n",
            "\n",
            "\n",
            "output  the first Big win of four'beating. On\n",
            "\n",
            "\n",
            "\n",
            "\n"
          ]
        },
        {
          "output_type": "stream",
          "name": "stderr",
          "text": [
            "\n"
          ]
        }
      ],
      "source": [
        "i = 0\n",
        "for batch_idx, sample in tqdm(enumerate(eval_dataloader)):\n",
        "    input_ids, label_ids = sample[0][:seq_len - 1], sample[0][1:seq_len]\n",
        "    input_ids = input_ids.to(device=device)\n",
        "    label_ids = label_ids.to(device=device)\n",
        "    outputs = model(input_ids)\n",
        "    print (\"\\n\")\n",
        "    print(\"input_ids[0][-20:]\", tokenizer.decode(input_ids[-10:]))\n",
        "    print (\"\\n\")\n",
        "    print(\"label_ids[0][-21:]\", tokenizer.decode(input_ids[-11:]))\n",
        "    print (\"\\n\")\n",
        "    print(\"output\", tokenizer.decode(outputs.logits.argmax(dim=-1)[-10:]))\n",
        "    #print(\"GENERATED\", tokenizer.decode(outputs.logits.argmax(dim=-1)[0][-1:]))\n",
        "    print(\"\\n\\n\\n\")\n",
        "    i += 1\n",
        "    if i > 10: break\n",
        "    print (\"\\n\\n\")"
      ]
    },
    {
      "cell_type": "markdown",
      "metadata": {
        "id": "l1CVH6bI9_Do"
      },
      "source": [
        "# Which parts of the transformer are best to compress?\n",
        "\n",
        "Parameters in the parts of thransormer model, MB:\n",
        "\n",
        "Part \\ Model           | GPT-2 small  |  GPT-2 medium | GPT-2 large\n",
        "-----------------------|--------------|---------------|---------------|\n",
        "Attention block        | 9.01         |      16.02    |        25.02  |\n",
        "MLP block              | 18.01        |      32.02    |     50.02     |"
      ]
    },
    {
      "cell_type": "markdown",
      "metadata": {
        "id": "PH5fm9My3YC7"
      },
      "source": [
        "# 2. SVD-compression of Fully Connected layer\n",
        "\n",
        "Linear layer: $Y = X W^T + b$\n",
        "\n",
        "Singular Value decomposition: $W = U \\Sigma V^T$\n",
        "\n",
        "We use truncated SVD with rank $r$: $U_r = U[:, :r], \\Sigma_r = Σ[:r, :r], V_r = V[:, :r]$\n",
        "\n",
        "Since $\\Sigma_r$ is a diagonal matrix of shape $r \\times r$, we can fuze it inside $U_r$ and $V_r$ in order to avoid multiplication of X with it during inference time:\n",
        "\n",
        "$ W_2 = U[:, :r] \\sqrt{\\Sigma_r}, W_1 = \\sqrt{\\Sigma_r} V[:, :r]^T$\n",
        "\n",
        "As a result, we get:\n",
        "\n",
        "$W ≈ W_2 W_1$ and $Y \\approx X W_1^T W_2^T + b$\n",
        "\n",
        "Which is equivalent to two sequential linear layers - first with weight $W_1$ and zero bias and the second one with weight $W_2$ and bias $b$.\n",
        "\n",
        "Let $W$ have $n_{in}, n_{out}$ shape.\n",
        "\n",
        "Then, FLOP number of initial linear layer is $2 \\times n_{in} \\times (n_{out} + 1)$.\n",
        "\n",
        "And FLOP number of factorized layer is $2 \\times n_{in} \\times r + r \\times (2 \\times n_{out} + 1). $\n",
        "\n",
        "If $r < \\frac{n_{in} \\times (n_{out} + 1)}{n_{in} +  n_{out} + 0.5}$, then complexity of factorized layer is lower."
      ]
    },
    {
      "cell_type": "code",
      "execution_count": 15,
      "metadata": {
        "colab": {
          "base_uri": "https://localhost:8080/"
        },
        "id": "BzzncWjm3YDC",
        "outputId": "efbc9745-a9ca-4924-80eb-7606da81ec47"
      },
      "outputs": [
        {
          "output_type": "execute_result",
          "data": {
            "text/plain": [
              "((768, 3072), (3072,))"
            ]
          },
          "metadata": {},
          "execution_count": 15
        }
      ],
      "source": [
        "fc_w = model.transformer.h[0].mlp.c_fc.weight.data.cpu().data.numpy()\n",
        "fc_b = model.transformer.h[0].mlp.c_fc.bias.data.cpu().data.numpy()\n",
        "fc_w.shape, fc_b.shape"
      ]
    },
    {
      "cell_type": "code",
      "execution_count": 16,
      "metadata": {
        "id": "wTjrjkeC3YDH"
      },
      "outputs": [],
      "source": [
        "from transformers.modeling_utils import Conv1D\n",
        "\n",
        "def factorize_to_svd(fc_w, fc_b, rank):\n",
        "    U, S, Vt = np.linalg.svd(fc_w, full_matrices=False)\n",
        "    # truncate SVD and fuse Sigma matrix\n",
        "    w1 = np.dot(np.diag(np.sqrt(S[0:rank])),Vt[0:rank, :])\n",
        "    w2 = np.dot(U[:,0:rank,], np.diag(np.sqrt(S[0:rank])))\n",
        "\n",
        "    # create new layers and insert weights\n",
        "    out_features, in_features = fc_w.shape\n",
        "    is_bias = fc_b is not None\n",
        "\n",
        "    linear1 = nn.Linear(in_features = in_features,\n",
        "                      out_features = rank,\n",
        "                      bias = False)\n",
        "    linear1.weight = nn.Parameter(torch.FloatTensor(w1))\n",
        "\n",
        "    linear2 = nn.Linear(in_features = rank,\n",
        "                      out_features = out_features,\n",
        "                      bias=is_bias)\n",
        "    linear2.weight = nn.Parameter(torch.FloatTensor(w2))\n",
        "    linear2.bias = nn.Parameter(torch.FloatTensor(fc_b))\n",
        "\n",
        "    # create factorized layer\n",
        "    factorized_layer = nn.Sequential(linear1.to(device),linear2.to(device))\n",
        "    return factorized_layer"
      ]
    },
    {
      "cell_type": "markdown",
      "metadata": {
        "id": "kselMhvn3YDR"
      },
      "source": [
        "We select a fully-connected layer in the 6th, 8th, 9th, 10th and 11th block of GPT-2.\n",
        "\n",
        "Note that Conv1D() Transformer class has transposed weight matrix.\n",
        "\n",
        "\n",
        "\n"
      ]
    },
    {
      "cell_type": "code",
      "execution_count": 17,
      "metadata": {
        "colab": {
          "base_uri": "https://localhost:8080/"
        },
        "id": "s8jVeHgT3YDW",
        "outputId": "7a68a72f-5da7-4316-d392-a9c07f9df036"
      },
      "outputs": [
        {
          "output_type": "stream",
          "name": "stdout",
          "text": [
            "(768, 3072) (3072,)\n",
            "(3072, 768) (768,)\n",
            "(768, 3072) (3072,)\n",
            "(3072, 768) (768,)\n",
            "(768, 3072) (3072,)\n",
            "(3072, 768) (768,)\n",
            "(768, 3072) (3072,)\n",
            "(3072, 768) (768,)\n",
            "(768, 3072) (3072,)\n",
            "(3072, 768) (768,)\n",
            "(768, 3072) (3072,)\n",
            "(3072, 768) (768,)\n",
            "(768, 3072) (3072,)\n",
            "(3072, 768) (768,)\n",
            "(768, 3072) (3072,)\n",
            "(3072, 768) (768,)\n",
            "(768, 3072) (3072,)\n",
            "(3072, 768) (768,)\n",
            "(768, 3072) (3072,)\n",
            "(3072, 768) (768,)\n",
            "(768, 3072) (3072,)\n",
            "(3072, 768) (768,)\n",
            "(768, 3072) (3072,)\n",
            "(3072, 768) (768,)\n"
          ]
        }
      ],
      "source": [
        "for i in range(len(model.transformer.h)):\n",
        "    # fc part\n",
        "    fc_w = model.transformer.h[i].mlp.c_fc.weight.data.cpu().data.numpy()\n",
        "    fc_b = model.transformer.h[i].mlp.c_fc.bias.data.cpu().data.numpy()\n",
        "    print (fc_w.shape, fc_b.shape)\n",
        "    factorized_layer = factorize_to_svd(np.transpose(fc_w), fc_b, rank = 40)\n",
        "    model.transformer.h[i].mlp.c_fc = factorized_layer\n",
        "\n",
        "    fc_w = model.transformer.h[i].mlp.c_proj.weight.data.cpu().data.numpy()\n",
        "    fc_b = model.transformer.h[i].mlp.c_proj.bias.data.cpu().data.numpy()\n",
        "    print (fc_w.shape, fc_b.shape)\n",
        "    factorized_layer = factorize_to_svd(np.transpose(fc_w), fc_b, rank = 40)\n",
        "    model.transformer.h[i].mlp.c_proj = factorized_layer\n"
      ]
    },
    {
      "cell_type": "code",
      "execution_count": 18,
      "metadata": {
        "colab": {
          "base_uri": "https://localhost:8080/"
        },
        "id": "0wtHX3of3YDZ",
        "outputId": "c163c3d9-b04c-47ad-f871-f04ca76fd9e7"
      },
      "outputs": [
        {
          "output_type": "stream",
          "name": "stdout",
          "text": [
            "num parameters in model 71503104\n"
          ]
        }
      ],
      "source": [
        "print (\"num parameters in model\", model.num_parameters())"
      ]
    },
    {
      "cell_type": "code",
      "execution_count": 19,
      "metadata": {
        "colab": {
          "base_uri": "https://localhost:8080/"
        },
        "id": "RDv6NmeW3YDf",
        "outputId": "bddb2064-1ce9-4293-f8cc-2b72129f1138"
      },
      "outputs": [
        {
          "output_type": "stream",
          "name": "stderr",
          "text": [
            "Evaluating: 100%|██████████| 49/49 [00:16<00:00,  2.98it/s]\n"
          ]
        },
        {
          "output_type": "execute_result",
          "data": {
            "text/plain": [
              "tensor(12762.3789)"
            ]
          },
          "metadata": {},
          "execution_count": 19
        }
      ],
      "source": [
        "perplexity = evaluate(model.to(device))\n",
        "perplexity"
      ]
    },
    {
      "cell_type": "markdown",
      "metadata": {
        "id": "ATpon9aq3YDm"
      },
      "source": [
        "Let's define a function that will iterate over the compression ratios of a fully connected layer,\n",
        "\n",
        "apply the selected compression to the selected layers,\n",
        "\n",
        "and calculate the resulting perplexity**"
      ]
    },
    {
      "cell_type": "code",
      "execution_count": 20,
      "metadata": {
        "id": "mA1tYGG43YDu"
      },
      "outputs": [],
      "source": [
        "def evaluate_compression_and_ppx(rank = 50, layer_to_remove = [6, 8, 9, 10, 11]):\n",
        "    configuration = GPT2Config()\n",
        "    # Initializing a model from the configuration\n",
        "    model = GPT2LMHeadModel(configuration).from_pretrained(\"gpt2\",\n",
        "                                                return_dict=True,\n",
        "                                                is_decoder=True)\n",
        "    outt = model.to(device)\n",
        "    print (\"rank\", rank)\n",
        "    print (\"layers\", layer_to_remove)\n",
        "    for i in layer_to_remove:\n",
        "    # fc part\n",
        "        fc_w = model.transformer.h[i].mlp.c_fc.weight.data.cpu()\n",
        "        fc_b = model.transformer.h[i].mlp.c_fc.bias.data.cpu().data.numpy()\n",
        "        factorized_layer = factorize_to_svd(np.transpose(fc_w), fc_b, rank = rank)\n",
        "        model.transformer.h[i].mlp.c_fc = factorized_layer.to(device)\n",
        "\n",
        "        fc_w = model.transformer.h[i].mlp.c_proj.weight.data.cpu().data.numpy()\n",
        "        fc_b = model.transformer.h[i].mlp.c_proj.bias.data.cpu().data.numpy()\n",
        "        print (fc_w.shape, fc_b.shape)\n",
        "        factorized_layer = factorize_to_svd(np.transpose(fc_w), fc_b, rank = rank)\n",
        "        model.transformer.h[i].mlp.c_proj = factorized_layer.to(device)\n",
        "    print (\"num parameters in model\", model.num_parameters())\n",
        "    perplexity = evaluate(model)\n",
        "    print (\"perplexity\", perplexity)\n",
        "    return perplexity"
      ]
    },
    {
      "cell_type": "code",
      "execution_count": 21,
      "metadata": {
        "colab": {
          "base_uri": "https://localhost:8080/"
        },
        "id": "0KkuwnCf3YDx",
        "outputId": "e683a363-26ce-454a-d21b-e15a69a2f9cf"
      },
      "outputs": [
        {
          "output_type": "stream",
          "name": "stdout",
          "text": [
            "rank 50\n",
            "layers [6, 8, 9, 10, 11]\n",
            "(3072, 768) (768,)\n",
            "(3072, 768) (768,)\n",
            "(3072, 768) (768,)\n",
            "(3072, 768) (768,)\n",
            "(3072, 768) (768,)\n",
            "num parameters in model 102766848\n"
          ]
        },
        {
          "output_type": "stream",
          "name": "stderr",
          "text": [
            "Evaluating: 100%|██████████| 49/49 [00:19<00:00,  2.46it/s]\n"
          ]
        },
        {
          "output_type": "stream",
          "name": "stdout",
          "text": [
            "perplexity tensor(121.1321)\n",
            "rank 100\n",
            "layers [6, 8, 9, 10, 11]\n",
            "(3072, 768) (768,)\n",
            "(3072, 768) (768,)\n",
            "(3072, 768) (768,)\n",
            "(3072, 768) (768,)\n",
            "(3072, 768) (768,)\n",
            "num parameters in model 104686848\n"
          ]
        },
        {
          "output_type": "stream",
          "name": "stderr",
          "text": [
            "Evaluating: 100%|██████████| 49/49 [00:20<00:00,  2.41it/s]\n"
          ]
        },
        {
          "output_type": "stream",
          "name": "stdout",
          "text": [
            "perplexity tensor(103.6401)\n",
            "rank 200\n",
            "layers [6, 8, 9, 10, 11]\n",
            "(3072, 768) (768,)\n",
            "(3072, 768) (768,)\n",
            "(3072, 768) (768,)\n",
            "(3072, 768) (768,)\n",
            "(3072, 768) (768,)\n",
            "num parameters in model 108526848\n"
          ]
        },
        {
          "output_type": "stream",
          "name": "stderr",
          "text": [
            "Evaluating: 100%|██████████| 49/49 [00:21<00:00,  2.32it/s]\n"
          ]
        },
        {
          "output_type": "stream",
          "name": "stdout",
          "text": [
            "perplexity tensor(74.4626)\n",
            "rank 300\n",
            "layers [6, 8, 9, 10, 11]\n",
            "(3072, 768) (768,)\n",
            "(3072, 768) (768,)\n",
            "(3072, 768) (768,)\n",
            "(3072, 768) (768,)\n",
            "(3072, 768) (768,)\n",
            "num parameters in model 112366848\n"
          ]
        },
        {
          "output_type": "stream",
          "name": "stderr",
          "text": [
            "Evaluating: 100%|██████████| 49/49 [00:21<00:00,  2.31it/s]\n"
          ]
        },
        {
          "output_type": "stream",
          "name": "stdout",
          "text": [
            "perplexity tensor(59.4694)\n",
            "rank 400\n",
            "layers [6, 8, 9, 10, 11]\n",
            "(3072, 768) (768,)\n",
            "(3072, 768) (768,)\n",
            "(3072, 768) (768,)\n",
            "(3072, 768) (768,)\n",
            "(3072, 768) (768,)\n",
            "num parameters in model 116206848\n"
          ]
        },
        {
          "output_type": "stream",
          "name": "stderr",
          "text": [
            "Evaluating: 100%|██████████| 49/49 [00:21<00:00,  2.23it/s]\n"
          ]
        },
        {
          "output_type": "stream",
          "name": "stdout",
          "text": [
            "perplexity tensor(49.6767)\n",
            "rank 500\n",
            "layers [6, 8, 9, 10, 11]\n",
            "(3072, 768) (768,)\n",
            "(3072, 768) (768,)\n",
            "(3072, 768) (768,)\n",
            "(3072, 768) (768,)\n",
            "(3072, 768) (768,)\n",
            "num parameters in model 120046848\n"
          ]
        },
        {
          "output_type": "stream",
          "name": "stderr",
          "text": [
            "Evaluating: 100%|██████████| 49/49 [00:22<00:00,  2.22it/s]"
          ]
        },
        {
          "output_type": "stream",
          "name": "stdout",
          "text": [
            "perplexity tensor(43.0938)\n"
          ]
        },
        {
          "output_type": "stream",
          "name": "stderr",
          "text": [
            "\n"
          ]
        }
      ],
      "source": [
        "ranks = []\n",
        "ppxs = []\n",
        "for rank in [50, 100, 200, 300, 400, 500]:\n",
        "    ppx = evaluate_compression_and_ppx(rank = rank, layer_to_remove = [6, 8, 9, 10, 11])\n",
        "    ranks.append(rank)\n",
        "    ppxs.append(ppx.data)"
      ]
    },
    {
      "cell_type": "code",
      "execution_count": 22,
      "metadata": {
        "colab": {
          "base_uri": "https://localhost:8080/"
        },
        "id": "ug7q_LkOWaWG",
        "outputId": "a3f542cb-1620-44e4-ae97-0ea46082c842"
      },
      "outputs": [
        {
          "output_type": "stream",
          "name": "stderr",
          "text": [
            "UsageError: Line magic function `%pylab_inline` not found.\n"
          ]
        }
      ],
      "source": [
        "%pylab_inline"
      ]
    },
    {
      "cell_type": "code",
      "execution_count": null,
      "metadata": {
        "colab": {
          "base_uri": "https://localhost:8080/",
          "height": 487
        },
        "id": "xRTEPp_oTzu9",
        "outputId": "674a31f3-49f0-4d27-cd72-57cde6f620f3"
      },
      "outputs": [
        {
          "data": {
            "image/png": "[encoded data removed]",
            "text/plain": [
              "<Figure size 1000x500 with 1 Axes>"
            ]
          },
          "metadata": {},
          "output_type": "display_data"
        }
      ],
      "source": [
        "import matplotlib.pyplot as plt\n",
        "\n",
        "plt.figure(figsize=(10, 5))\n",
        "plt.plot(ranks, ppxs, marker = 'o', label=\"compressed model perplexity\")\n",
        "plt.grid()\n",
        "plt.title(\"Perplexity from numper of parameters\")\n",
        "plt.xlabel(\"Ranks\")\n",
        "plt.ylabel(\"Perplexity\")\n",
        "plt.legend()\n",
        "plt.show()"
      ]
    },
    {
      "cell_type": "markdown",
      "metadata": {
        "id": "1M2VH7IJ3YD8"
      },
      "source": [
        "# Pruning"
      ]
    },
    {
      "cell_type": "markdown",
      "metadata": {
        "id": "G8XPmHdP3YEC"
      },
      "source": [
        "To be sure that problems cannot be solved by simply removing layers,\n",
        "\n",
        "we replace the weight matrix with random initializations and calculate the final perplexity."
      ]
    },
    {
      "cell_type": "code",
      "execution_count": 29,
      "metadata": {
        "id": "09A1d4hq3YEC"
      },
      "outputs": [],
      "source": [
        "model = GPT2LMHeadModel(configuration).from_pretrained(\"gpt2\",\n",
        "                                                return_dict=True,\n",
        "                                                is_decoder=True)\n",
        "outt = model.to(device)"
      ]
    },
    {
      "cell_type": "code",
      "execution_count": 30,
      "metadata": {
        "id": "Oh9Xo8k13YEC"
      },
      "outputs": [],
      "source": [
        "from transformers.modeling_utils import Conv1D\n",
        "for i in [6, 8, 9, 10, 11]:\n",
        "    # fc part\n",
        "    fc_w = model.transformer.h[i].mlp.c_fc.weight.data.cpu().data.numpy()\n",
        "    fp_w = model.transformer.h[i].mlp.c_proj.weight.data.cpu().data.numpy()\n",
        "    model.transformer.h[i].mlp.c_fc = Conv1D(nx = fc_w.shape[0], nf = 2600)\n",
        "    model.transformer.h[i].mlp.c_proj = Conv1D(nx = 2600, nf = fc_w.shape[0])"
      ]
    },
    {
      "cell_type": "code",
      "execution_count": 31,
      "metadata": {
        "colab": {
          "base_uri": "https://localhost:8080/"
        },
        "id": "wcku4G8ZwtKL",
        "outputId": "eebcc025-6d42-4bf7-ca20-737a54f73abf"
      },
      "outputs": [
        {
          "output_type": "stream",
          "name": "stdout",
          "text": [
            "num parameters in model 100844488\n"
          ]
        }
      ],
      "source": [
        "print (\"num parameters in model\", model.num_parameters() - 10*np.prod(model.transformer.h[i].mlp.c_fc.weight.shape))"
      ]
    },
    {
      "cell_type": "code",
      "execution_count": 32,
      "metadata": {
        "colab": {
          "base_uri": "https://localhost:8080/"
        },
        "id": "YamCN59u3YEI",
        "outputId": "8e6d6c9b-a7a2-46fd-bec4-1f1783b695a9"
      },
      "outputs": [
        {
          "output_type": "stream",
          "name": "stderr",
          "text": [
            "Evaluating: 100%|██████████| 49/49 [00:22<00:00,  2.14it/s]\n"
          ]
        },
        {
          "output_type": "execute_result",
          "data": {
            "text/plain": [
              "tensor(119.3090)"
            ]
          },
          "metadata": {},
          "execution_count": 32
        }
      ],
      "source": [
        "perplexity = evaluate(model.to(device))\n",
        "perplexity"
      ]
    },
    {
      "cell_type": "markdown",
      "metadata": {
        "id": "XrwRsuaZ3YEP"
      },
      "source": [
        "This is much more than in the pre-trained and in compressed model!"
      ]
    },
    {
      "cell_type": "markdown",
      "metadata": {
        "id": "mVbWKhDp0ZCw"
      },
      "source": [
        "## TTM decomposition"
      ]
    },
    {
      "cell_type": "markdown",
      "metadata": {
        "id": "tDN7B2rmqU5N"
      },
      "source": [
        "![Text](https://drive.google.com/uc?export=view&id=1b0ugHDiPUJvTuoXeJxO_4ehaSYpdwsvY)\n",
        "\n"
      ]
    },
    {
      "cell_type": "code",
      "execution_count": 33,
      "metadata": {
        "colab": {
          "base_uri": "https://localhost:8080/"
        },
        "id": "-RnTPAQW0znm",
        "outputId": "c90cdccd-556f-4ed1-8e43-de0f6f8fdd58"
      },
      "outputs": [
        {
          "output_type": "stream",
          "name": "stdout",
          "text": [
            "Collecting tntorch\n",
            "  Downloading tntorch-1.1.1-py2.py3-none-any.whl (61 kB)\n",
            "\u001b[?25l     \u001b[90m━━━━━━━━━━━━━━━━━━━━━━━━━━━━━━━━━━━━━━━━\u001b[0m \u001b[32m0.0/61.4 kB\u001b[0m \u001b[31m?\u001b[0m eta \u001b[36m-:--:--\u001b[0m\r\u001b[2K     \u001b[90m━━━━━━━━━━━━━━━━━━━━━━━━━━━━━━━━━━━━━━━━\u001b[0m \u001b[32m61.4/61.4 kB\u001b[0m \u001b[31m2.9 MB/s\u001b[0m eta \u001b[36m0:00:00\u001b[0m\n",
            "\u001b[?25hRequirement already satisfied: numpy in /usr/local/lib/python3.10/dist-packages (from tntorch) (1.22.4)\n",
            "Requirement already satisfied: scipy in /usr/local/lib/python3.10/dist-packages (from tntorch) (1.10.1)\n",
            "Requirement already satisfied: torch>=1.11 in /usr/local/lib/python3.10/dist-packages (from tntorch) (2.0.1+cu118)\n",
            "Requirement already satisfied: filelock in /usr/local/lib/python3.10/dist-packages (from torch>=1.11->tntorch) (3.12.2)\n",
            "Requirement already satisfied: typing-extensions in /usr/local/lib/python3.10/dist-packages (from torch>=1.11->tntorch) (4.7.1)\n",
            "Requirement already satisfied: sympy in /usr/local/lib/python3.10/dist-packages (from torch>=1.11->tntorch) (1.11.1)\n",
            "Requirement already satisfied: networkx in /usr/local/lib/python3.10/dist-packages (from torch>=1.11->tntorch) (3.1)\n",
            "Requirement already satisfied: jinja2 in /usr/local/lib/python3.10/dist-packages (from torch>=1.11->tntorch) (3.1.2)\n",
            "Requirement already satisfied: triton==2.0.0 in /usr/local/lib/python3.10/dist-packages (from torch>=1.11->tntorch) (2.0.0)\n",
            "Requirement already satisfied: cmake in /usr/local/lib/python3.10/dist-packages (from triton==2.0.0->torch>=1.11->tntorch) (3.25.2)\n",
            "Requirement already satisfied: lit in /usr/local/lib/python3.10/dist-packages (from triton==2.0.0->torch>=1.11->tntorch) (16.0.6)\n",
            "Requirement already satisfied: MarkupSafe>=2.0 in /usr/local/lib/python3.10/dist-packages (from jinja2->torch>=1.11->tntorch) (2.1.3)\n",
            "Requirement already satisfied: mpmath>=0.19 in /usr/local/lib/python3.10/dist-packages (from sympy->torch>=1.11->tntorch) (1.3.0)\n",
            "Installing collected packages: tntorch\n",
            "Successfully installed tntorch-1.1.1\n"
          ]
        }
      ],
      "source": [
        "!pip3 install tntorch"
      ]
    },
    {
      "cell_type": "code",
      "execution_count": 35,
      "metadata": {
        "id": "BynP0HRd3WWz"
      },
      "outputs": [],
      "source": [
        "import tntorch as tn\n",
        "\n",
        "def tt_multiply(tt_matrix: tn.TTMatrix, tensor: torch.Tensor):\n",
        "    \"\"\"\n",
        "    Multiply TTMatrix by any tensor of more than 1-way.\n",
        "    For vectors, reshape them to matrix of shape 1 x I\n",
        "    returns: torch.Tensor of shape b x num_cols(tt_matrix)\n",
        "    \"\"\"\n",
        "\n",
        "    assert len(tensor.shape) > 1\n",
        "\n",
        "    #print(\"b.shape: \", tensor.shape)\n",
        "    #print(\"matrix shapes:\")\n",
        "    #for elem in tt_matrix.cores:\n",
        "      #print(elem.shape)\n",
        "    #print(\"\\n\")\n",
        "\n",
        "    rows = torch.prod(tt_matrix.input_dims)\n",
        "    bs = tensor.shape[0]\n",
        "    seq_len = tensor.shape[1]\n",
        "    b = tensor.reshape(-1, rows).shape[0]\n",
        "    tensor = tensor.reshape(b, -1).T\n",
        "    result = tensor.reshape(tt_matrix.input_dims[0], -1)\n",
        "    #print (\"b new shape \", result.shape)\n",
        "    #print (\"core shape \", tt_matrix.cores[0].shape)\n",
        "    result = torch.einsum('id,lior->ldor', result, tt_matrix.cores[0])\n",
        "    #print (\"result shape \", result.shape)\n",
        "    #print(\"\\n\")\n",
        "\n",
        "    for d in range(1, tt_matrix.d):\n",
        "        result = result.reshape(tt_matrix.input_dims[d], -1, tt_matrix.cores[d].shape[0])\n",
        "        #print (\"result input shape \", result.shape)\n",
        "        #print (\"core shape \", tt_matrix.cores[d].shape)\n",
        "        result = torch.einsum('idr,riob->dob', result, tt_matrix.cores[d])\n",
        "        #print (\"result output shape \", result.shape)\n",
        "        #print(\"\\n\")\n",
        "    #print (\"output\", result.reshape(b, -1).shape)\n",
        "    return result.reshape(bs, seq_len, -1)"
      ]
    },
    {
      "cell_type": "code",
      "execution_count": 36,
      "metadata": {
        "id": "DYLEwKur0TMe"
      },
      "outputs": [],
      "source": [
        "class TTLinear(nn.Module):\n",
        "    def __init__(self, in_features, out_features, ranks, input_dims,\n",
        "                 output_dims, bias = True, device=None, dtype=None):\n",
        "        super().__init__()\n",
        "        self.in_features = in_features\n",
        "        self.out_features = out_features\n",
        "        self.ranks = ranks\n",
        "        self.input_dims = input_dims\n",
        "        self.output_dims = output_dims\n",
        "\n",
        "        # Initialize Тweights from uniform[-1 / sqrt(in_features), 1 / sqrt(in_features)]\n",
        "        factory_kwargs = {\"device\": device, \"dtype\": dtype}\n",
        "        init = torch.rand(in_features, out_features, **factory_kwargs)\n",
        "        init = (2 * init - 1) / np.sqrt(in_features)\n",
        "        self.weight = tn.TTMatrix(init, ranks, input_dims, output_dims)\n",
        "\n",
        "        # torch doesn't recognize attributes of self.weight as parameters,\n",
        "        # so we have to specify them\n",
        "        self.cores = nn.ParameterList([nn.Parameter(core) for core in self.weight.cores])\n",
        "        self.weight.cores = self.cores\n",
        "\n",
        "        if bias:\n",
        "            init = torch.rand(out_features, **factory_kwargs)\n",
        "            init = (2 * init - 1) / np.sqrt(out_features)\n",
        "            self.bias = nn.Parameter(init)\n",
        "        else:\n",
        "            self.register_parameter('bias', None)\n",
        "\n",
        "\n",
        "    def forward(self, x: torch.Tensor):\n",
        "        res = tt_multiply(self.weight, x)\n",
        "        if self.bias is not None:\n",
        "            res += self.bias\n",
        "        return res\n",
        "\n",
        "    def set_weight(self, new_weights: torch.Tensor):\n",
        "        # in regular linear layer weights are transposed, so we transpose back\n",
        "        new_weights = new_weights.clone().detach()\n",
        "\n",
        "        shape = torch.Size((self.in_features, self.out_features))\n",
        "        assert new_weights.shape == shape, f\"Expected shape {shape}, got {new_weights.shape}\"\n",
        "\n",
        "        self.weight = tn.TTMatrix(new_weights, self.ranks, self.input_dims, self.output_dims)\n",
        "        self.cores = nn.ParameterList([nn.Parameter(core) for core in self.weight.cores])\n",
        "        self.weight.cores = self.cores\n",
        "\n",
        "    def set_from_linear(self, linear: nn.Linear, transpose=False):\n",
        "        if transpose:\n",
        "            self.set_weight(linear.weight.data.T)\n",
        "        else:\n",
        "            self.set_weight(linear.weight.data)\n",
        "        self.bias = torch.nn.Parameter(linear.bias.data.clone()) if linear.bias is not None else None\n",
        "        print (linear.bias.shape)"
      ]
    },
    {
      "cell_type": "code",
      "execution_count": 37,
      "metadata": {
        "id": "Ex6aGV3X5Tev"
      },
      "outputs": [],
      "source": [
        "layer = TTLinear(3072, 768, [10, 10, 10], [8, 8, 6,8], [4, 6, 8,4], bias=True)\n",
        "input = torch.rand(2, 5, 3072)/10"
      ]
    },
    {
      "cell_type": "code",
      "execution_count": 38,
      "metadata": {
        "id": "2UVmb6W56qLf"
      },
      "outputs": [],
      "source": [
        "a = layer(input)"
      ]
    },
    {
      "cell_type": "code",
      "execution_count": 39,
      "metadata": {
        "colab": {
          "base_uri": "https://localhost:8080/"
        },
        "id": "gz67MjCXc5_7",
        "outputId": "8467092b-ce46-4f48-d621-a92a660ab4fa"
      },
      "outputs": [
        {
          "output_type": "stream",
          "name": "stdout",
          "text": [
            "torch.Size([1, 8, 4, 10])\n",
            "torch.Size([10, 8, 6, 10])\n",
            "torch.Size([10, 6, 8, 10])\n",
            "torch.Size([10, 8, 4, 1])\n"
          ]
        }
      ],
      "source": [
        "for core in layer.cores:\n",
        "  print (core.shape)"
      ]
    },
    {
      "cell_type": "code",
      "execution_count": 40,
      "metadata": {
        "colab": {
          "base_uri": "https://localhost:8080/"
        },
        "id": "dcYOn53jTusc",
        "outputId": "0e109370-749c-433e-be7e-d2f824bd18b1"
      },
      "outputs": [
        {
          "output_type": "execute_result",
          "data": {
            "text/plain": [
              "GPT2LMHeadModel(\n",
              "  (transformer): GPT2Model(\n",
              "    (wte): Embedding(50257, 768)\n",
              "    (wpe): Embedding(1024, 768)\n",
              "    (drop): Dropout(p=0.1, inplace=False)\n",
              "    (h): ModuleList(\n",
              "      (0-11): 12 x GPT2Block(\n",
              "        (ln_1): LayerNorm((768,), eps=1e-05, elementwise_affine=True)\n",
              "        (attn): GPT2Attention(\n",
              "          (c_attn): Conv1D()\n",
              "          (c_proj): Conv1D()\n",
              "          (attn_dropout): Dropout(p=0.1, inplace=False)\n",
              "          (resid_dropout): Dropout(p=0.1, inplace=False)\n",
              "        )\n",
              "        (ln_2): LayerNorm((768,), eps=1e-05, elementwise_affine=True)\n",
              "        (mlp): GPT2MLP(\n",
              "          (c_fc): Conv1D()\n",
              "          (c_proj): Conv1D()\n",
              "          (act): NewGELUActivation()\n",
              "          (dropout): Dropout(p=0.1, inplace=False)\n",
              "        )\n",
              "      )\n",
              "    )\n",
              "    (ln_f): LayerNorm((768,), eps=1e-05, elementwise_affine=True)\n",
              "  )\n",
              "  (lm_head): Linear(in_features=768, out_features=50257, bias=False)\n",
              ")"
            ]
          },
          "metadata": {},
          "execution_count": 40
        }
      ],
      "source": [
        "model = GPT2LMHeadModel(configuration).from_pretrained(\"gpt2\",\n",
        "                                                return_dict=True,\n",
        "                                                is_decoder=True)\n",
        "model.to(device)"
      ]
    },
    {
      "cell_type": "code",
      "execution_count": 41,
      "metadata": {
        "colab": {
          "base_uri": "https://localhost:8080/"
        },
        "id": "l5_nzaEr1abP",
        "outputId": "8ef8ec6a-2f0f-4cbf-dfc8-c7de95053962"
      },
      "outputs": [
        {
          "output_type": "stream",
          "name": "stdout",
          "text": [
            "torch.Size([768])\n",
            "torch.Size([3072])\n",
            "torch.Size([768])\n",
            "torch.Size([3072])\n",
            "torch.Size([768])\n",
            "torch.Size([3072])\n",
            "torch.Size([768])\n",
            "torch.Size([3072])\n",
            "torch.Size([768])\n",
            "torch.Size([3072])\n"
          ]
        }
      ],
      "source": [
        "for i in [6, 8, 9, 10, 11]:\n",
        "    # fc part\n",
        "    fc_w = model.transformer.h[i].mlp.c_fc\n",
        "    fp_w = model.transformer.h[i].mlp.c_proj\n",
        "    model.transformer.h[i].mlp.c_proj = TTLinear(3072, 768, [50, 50, 50], [8, 8, 6,8], [4, 6, 8,4], bias=True)\n",
        "    model.transformer.h[i].mlp.c_proj.set_from_linear(fp_w)\n",
        "    model.transformer.h[i].mlp.c_fc = TTLinear(768, 3072, [50, 50, 50], [4, 6, 8,4], [8, 8, 6,8], bias=True)\n",
        "    model.transformer.h[i].mlp.c_fc.set_from_linear(fc_w)"
      ]
    },
    {
      "cell_type": "code",
      "execution_count": 42,
      "metadata": {
        "colab": {
          "base_uri": "https://localhost:8080/"
        },
        "id": "3Jee7IKjDz-C",
        "outputId": "d887c35b-d532-489e-f828-5cb452cdfffc"
      },
      "outputs": [
        {
          "output_type": "stream",
          "name": "stdout",
          "text": [
            "num parameters in model 102403328\n"
          ]
        }
      ],
      "source": [
        "print (\"num parameters in model\", model.num_parameters())"
      ]
    },
    {
      "cell_type": "code",
      "execution_count": 43,
      "metadata": {
        "colab": {
          "base_uri": "https://localhost:8080/"
        },
        "id": "wkRybF5uD5Xw",
        "outputId": "d63ec581-f8dd-4f18-d76f-20e69b8ad474"
      },
      "outputs": [
        {
          "output_type": "stream",
          "name": "stderr",
          "text": [
            "Evaluating: 100%|██████████| 49/49 [01:33<00:00,  1.91s/it]\n"
          ]
        },
        {
          "output_type": "execute_result",
          "data": {
            "text/plain": [
              "tensor(134.4465)"
            ]
          },
          "metadata": {},
          "execution_count": 43
        }
      ],
      "source": [
        "perplexity = evaluate(model.to(device))\n",
        "perplexity"
      ]
    },
    {
      "cell_type": "markdown",
      "metadata": {
        "id": "J2ITayhqWK7v"
      },
      "source": [
        "## Fine-Tune (Bonus)"
      ]
    },
    {
      "cell_type": "code",
      "execution_count": null,
      "metadata": {
        "id": "mDbwYNdtWB4n"
      },
      "outputs": [],
      "source": [
        "dataset_train = TextDataset(tokenizer=tokenizer,\n",
        "                                file_path=\"/content/wikitext-103/wiki.train.tokens\", block_size=512)\n",
        "\n",
        "train_dataloader = DataLoader(dataset_train, batch_size=10)"
      ]
    },
    {
      "cell_type": "code",
      "execution_count": null,
      "metadata": {
        "id": "cCZFvMCWWCQo"
      },
      "outputs": [],
      "source": [
        "from transformers import get_cosine_schedule_with_warmup"
      ]
    },
    {
      "cell_type": "code",
      "execution_count": null,
      "metadata": {
        "id": "A7kC7oLfWCdJ"
      },
      "outputs": [],
      "source": [
        "epochs = 10\n",
        "gradient_accumulation_steps = 12\n",
        "num_train_batches = len(train_dataloader)\n",
        "cross_entropy = torch.nn.CrossEntropyLoss(ignore_index=tokenizer.eos_token_id)\n",
        "training_steps = num_train_batches // gradient_accumulation_steps * epochs\n",
        "optimizer = torch.optim.Adam(model.parameters(), lr=6.25e-5)\n",
        "scheduler = get_cosine_schedule_with_warmup(optimizer, num_warmup_steps=800, num_training_steps=training_steps)\n",
        "\n",
        "\n",
        "for epoch in range(1, 10):\n",
        "\n",
        "    train_loss = 0\n",
        "    epoch_iterator = tqdm(train_dataloader, desc=\"Iteration\", disable=True)\n",
        "    for train_batch_idx, item in enumerate(epoch_iterator):\n",
        "        optimizer.zero_grad() # in case there are unused accumulated gradients\n",
        "\n",
        "        model.train()\n",
        "        src, tgt = (item, item)\n",
        "        src = src.to(device=device)\n",
        "        tgt = tgt.to(device=device)\n",
        "\n",
        "\n",
        "        output = model(input_ids=src, labels=tgt)\n",
        "        loss = output.loss\n",
        "        train_loss += loss.item() # before gradient accumulation step\n",
        "        if gradient_accumulation_steps > 1:\n",
        "            loss = loss / gradient_accumulation_steps\n",
        "        loss.backward() # accumulate gradients\n",
        "\n",
        "        if train_batch_idx % gradient_accumulation_steps == 0:\n",
        "            optimizer.step()\n",
        "            scheduler.step()  # Update learning rate schedule\n",
        "            optimizer.zero_grad()\n",
        "\n",
        "        if train_batch_idx % 1000 == 0:\n",
        "            print (\"loss\", loss)\n",
        "            perplexity = evaluate(model)\n",
        "            print (\"perplexity\", perplexity)\n"
      ]
    },
    {
      "cell_type": "markdown",
      "metadata": {
        "id": "5ctNs4pN3Rwu"
      },
      "source": [
        "## stsb example"
      ]
    },
    {
      "cell_type": "markdown",
      "metadata": {
        "id": "dNvF070eC7wE"
      },
      "source": [
        "The Semantic Textual Similarity Benchmark (Cer et al., 2017) is a collection of sentence pairs drawn from news headlines, video and image captions, and natural language inference data. Each pair is human-annotated with a similarity score from 0 to 5."
      ]
    },
    {
      "cell_type": "code",
      "execution_count": 4,
      "metadata": {
        "colab": {
          "base_uri": "https://localhost:8080/"
        },
        "id": "_ObgzG7jDC3h",
        "outputId": "a84dda18-2445-473d-f905-c943ae7d822a"
      },
      "outputs": [
        {
          "output_type": "stream",
          "name": "stdout",
          "text": [
            "Requirement already satisfied: datasets in /usr/local/lib/python3.10/dist-packages (2.13.1)\n",
            "Requirement already satisfied: evaluate in /usr/local/lib/python3.10/dist-packages (0.4.0)\n",
            "Requirement already satisfied: numpy>=1.17 in /usr/local/lib/python3.10/dist-packages (from datasets) (1.22.4)\n",
            "Requirement already satisfied: pyarrow>=8.0.0 in /usr/local/lib/python3.10/dist-packages (from datasets) (9.0.0)\n",
            "Requirement already satisfied: dill<0.3.7,>=0.3.0 in /usr/local/lib/python3.10/dist-packages (from datasets) (0.3.6)\n",
            "Requirement already satisfied: pandas in /usr/local/lib/python3.10/dist-packages (from datasets) (1.5.3)\n",
            "Requirement already satisfied: requests>=2.19.0 in /usr/local/lib/python3.10/dist-packages (from datasets) (2.27.1)\n",
            "Requirement already satisfied: tqdm>=4.62.1 in /usr/local/lib/python3.10/dist-packages (from datasets) (4.65.0)\n",
            "Requirement already satisfied: xxhash in /usr/local/lib/python3.10/dist-packages (from datasets) (3.2.0)\n",
            "Requirement already satisfied: multiprocess in /usr/local/lib/python3.10/dist-packages (from datasets) (0.70.14)\n",
            "Requirement already satisfied: fsspec[http]>=2021.11.1 in /usr/local/lib/python3.10/dist-packages (from datasets) (2023.6.0)\n",
            "Requirement already satisfied: aiohttp in /usr/local/lib/python3.10/dist-packages (from datasets) (3.8.4)\n",
            "Requirement already satisfied: huggingface-hub<1.0.0,>=0.11.0 in /usr/local/lib/python3.10/dist-packages (from datasets) (0.16.4)\n",
            "Requirement already satisfied: packaging in /usr/local/lib/python3.10/dist-packages (from datasets) (23.1)\n",
            "Requirement already satisfied: pyyaml>=5.1 in /usr/local/lib/python3.10/dist-packages (from datasets) (6.0)\n",
            "Requirement already satisfied: responses<0.19 in /usr/local/lib/python3.10/dist-packages (from evaluate) (0.18.0)\n",
            "Requirement already satisfied: attrs>=17.3.0 in /usr/local/lib/python3.10/dist-packages (from aiohttp->datasets) (23.1.0)\n",
            "Requirement already satisfied: charset-normalizer<4.0,>=2.0 in /usr/local/lib/python3.10/dist-packages (from aiohttp->datasets) (2.0.12)\n",
            "Requirement already satisfied: multidict<7.0,>=4.5 in /usr/local/lib/python3.10/dist-packages (from aiohttp->datasets) (6.0.4)\n",
            "Requirement already satisfied: async-timeout<5.0,>=4.0.0a3 in /usr/local/lib/python3.10/dist-packages (from aiohttp->datasets) (4.0.2)\n",
            "Requirement already satisfied: yarl<2.0,>=1.0 in /usr/local/lib/python3.10/dist-packages (from aiohttp->datasets) (1.9.2)\n",
            "Requirement already satisfied: frozenlist>=1.1.1 in /usr/local/lib/python3.10/dist-packages (from aiohttp->datasets) (1.4.0)\n",
            "Requirement already satisfied: aiosignal>=1.1.2 in /usr/local/lib/python3.10/dist-packages (from aiohttp->datasets) (1.3.1)\n",
            "Requirement already satisfied: filelock in /usr/local/lib/python3.10/dist-packages (from huggingface-hub<1.0.0,>=0.11.0->datasets) (3.12.2)\n",
            "Requirement already satisfied: typing-extensions>=3.7.4.3 in /usr/local/lib/python3.10/dist-packages (from huggingface-hub<1.0.0,>=0.11.0->datasets) (4.7.1)\n",
            "Requirement already satisfied: urllib3<1.27,>=1.21.1 in /usr/local/lib/python3.10/dist-packages (from requests>=2.19.0->datasets) (1.26.16)\n",
            "Requirement already satisfied: certifi>=2017.4.17 in /usr/local/lib/python3.10/dist-packages (from requests>=2.19.0->datasets) (2023.5.7)\n",
            "Requirement already satisfied: idna<4,>=2.5 in /usr/local/lib/python3.10/dist-packages (from requests>=2.19.0->datasets) (3.4)\n",
            "Requirement already satisfied: python-dateutil>=2.8.1 in /usr/local/lib/python3.10/dist-packages (from pandas->datasets) (2.8.2)\n",
            "Requirement already satisfied: pytz>=2020.1 in /usr/local/lib/python3.10/dist-packages (from pandas->datasets) (2022.7.1)\n",
            "Requirement already satisfied: six>=1.5 in /usr/local/lib/python3.10/dist-packages (from python-dateutil>=2.8.1->pandas->datasets) (1.16.0)\n"
          ]
        }
      ],
      "source": [
        "!pip install datasets evaluate"
      ]
    },
    {
      "cell_type": "code",
      "execution_count": 5,
      "metadata": {
        "colab": {
          "base_uri": "https://localhost:8080/",
          "height": 84,
          "referenced_widgets": [
            "1ba4daa59198430095f3acc8c3ecd5aa",
            "568e38f4ce034f79a3bcf9185680c16f",
            "2de32c9db87a4a6c830cd8724c0c5133",
            "2e1683ded83849c1bc728e076c8c744e",
            "a538cfa9fe974785abf356eeb0c870d5",
            "4760463d06f04ef78f8c6ec7af3634de",
            "62dce63ca15b4dbf8ef22b29c5e3e43a",
            "3266292eae7f46dd804f30bc96eced45",
            "c6e07dbec66b4233b9f8dff7cd7e318e",
            "4d8334c0c8844e72997de0d79cbbf400",
            "8a6e3685e3364bc0b9ddc3f88bbac0a7"
          ]
        },
        "id": "UxegWUZiDFIY",
        "outputId": "fc916bd6-6f97-49e4-8413-ed25272095a2"
      },
      "outputs": [
        {
          "output_type": "stream",
          "name": "stderr",
          "text": [
            "WARNING:datasets.builder:Found cached dataset glue (/root/.cache/huggingface/datasets/glue/stsb/1.0.0/dacbe3125aa31d7f70367a07a8a9e72a5a0bfeb5fc42e75c9db75b96da6053ad)\n"
          ]
        },
        {
          "output_type": "display_data",
          "data": {
            "text/plain": [
              "  0%|          | 0/3 [00:00<?, ?it/s]"
            ],
            "application/vnd.jupyter.widget-view+json": {
              "version_major": 2,
              "version_minor": 0,
              "model_id": "1ba4daa59198430095f3acc8c3ecd5aa"
            }
          },
          "metadata": {}
        },
        {
          "output_type": "execute_result",
          "data": {
            "text/plain": [
              "{'train': 5749, 'validation': 1500, 'test': 1379}"
            ]
          },
          "metadata": {},
          "execution_count": 5
        }
      ],
      "source": [
        "from datasets import load_dataset\n",
        "import pandas as pd\n",
        "\n",
        "dataset_stsb = load_dataset('glue', 'stsb')\n",
        "dataset_stsb.num_rows"
      ]
    },
    {
      "cell_type": "code",
      "execution_count": 6,
      "metadata": {
        "colab": {
          "base_uri": "https://localhost:8080/",
          "height": 457
        },
        "id": "R9FXSu4BDGhl",
        "outputId": "6ccd9f88-38b0-40d1-f27f-1d832e04d901"
      },
      "outputs": [
        {
          "output_type": "execute_result",
          "data": {
            "text/plain": [
              "                                        sentence1  \\\n",
              "0                          A plane is taking off.   \n",
              "1                 A man is playing a large flute.   \n",
              "2   A man is spreading shreded cheese on a pizza.   \n",
              "3                    Three men are playing chess.   \n",
              "4                     A man is playing the cello.   \n",
              "5                          Some men are fighting.   \n",
              "6                               A man is smoking.   \n",
              "7                   The man is playing the piano.   \n",
              "8       A man is playing on a guitar and singing.   \n",
              "9   A person is throwing a cat on to the ceiling.   \n",
              "10        The man hit the other man with a stick.   \n",
              "11    A woman picks up and holds a baby kangaroo.   \n",
              "12                      A man is playing a flute.   \n",
              "\n",
              "                                            sentence2  label  idx  \n",
              "0                         An air plane is taking off.  5.000    0  \n",
              "1                           A man is playing a flute.  3.800    1  \n",
              "2   A man is spreading shredded cheese on an uncoo...  3.800    2  \n",
              "3                          Two men are playing chess.  2.600    3  \n",
              "4                  A man seated is playing the cello.  4.250    4  \n",
              "5                               Two men are fighting.  4.250    5  \n",
              "6                                   A man is skating.  0.500    6  \n",
              "7                      The man is playing the guitar.  1.600    7  \n",
              "8   A woman is playing an acoustic guitar and sing...  2.200    8  \n",
              "9               A person throws a cat on the ceiling.  5.000    9  \n",
              "10        The man spanked the other man with a stick.  4.200   10  \n",
              "11  A woman picks up and holds a baby kangaroo in ...  4.600   11  \n",
              "12                   A man is playing a bamboo flute.  3.867   12  "
            ],
            "text/html": [
              "\n",
              "\n",
              "  <div id=\"df-f66ee7b1-b18f-43a9-9d3c-d45bc312c739\">\n",
              "    <div class=\"colab-df-container\">\n",
              "      <div>\n",
              "<style scoped>\n",
              "    .dataframe tbody tr th:only-of-type {\n",
              "        vertical-align: middle;\n",
              "    }\n",
              "\n",
              "    .dataframe tbody tr th {\n",
              "        vertical-align: top;\n",
              "    }\n",
              "\n",
              "    .dataframe thead th {\n",
              "        text-align: right;\n",
              "    }\n",
              "</style>\n",
              "<table border=\"1\" class=\"dataframe\">\n",
              "  <thead>\n",
              "    <tr style=\"text-align: right;\">\n",
              "      <th></th>\n",
              "      <th>sentence1</th>\n",
              "      <th>sentence2</th>\n",
              "      <th>label</th>\n",
              "      <th>idx</th>\n",
              "    </tr>\n",
              "  </thead>\n",
              "  <tbody>\n",
              "    <tr>\n",
              "      <th>0</th>\n",
              "      <td>A plane is taking off.</td>\n",
              "      <td>An air plane is taking off.</td>\n",
              "      <td>5.000</td>\n",
              "      <td>0</td>\n",
              "    </tr>\n",
              "    <tr>\n",
              "      <th>1</th>\n",
              "      <td>A man is playing a large flute.</td>\n",
              "      <td>A man is playing a flute.</td>\n",
              "      <td>3.800</td>\n",
              "      <td>1</td>\n",
              "    </tr>\n",
              "    <tr>\n",
              "      <th>2</th>\n",
              "      <td>A man is spreading shreded cheese on a pizza.</td>\n",
              "      <td>A man is spreading shredded cheese on an uncoo...</td>\n",
              "      <td>3.800</td>\n",
              "      <td>2</td>\n",
              "    </tr>\n",
              "    <tr>\n",
              "      <th>3</th>\n",
              "      <td>Three men are playing chess.</td>\n",
              "      <td>Two men are playing chess.</td>\n",
              "      <td>2.600</td>\n",
              "      <td>3</td>\n",
              "    </tr>\n",
              "    <tr>\n",
              "      <th>4</th>\n",
              "      <td>A man is playing the cello.</td>\n",
              "      <td>A man seated is playing the cello.</td>\n",
              "      <td>4.250</td>\n",
              "      <td>4</td>\n",
              "    </tr>\n",
              "    <tr>\n",
              "      <th>5</th>\n",
              "      <td>Some men are fighting.</td>\n",
              "      <td>Two men are fighting.</td>\n",
              "      <td>4.250</td>\n",
              "      <td>5</td>\n",
              "    </tr>\n",
              "    <tr>\n",
              "      <th>6</th>\n",
              "      <td>A man is smoking.</td>\n",
              "      <td>A man is skating.</td>\n",
              "      <td>0.500</td>\n",
              "      <td>6</td>\n",
              "    </tr>\n",
              "    <tr>\n",
              "      <th>7</th>\n",
              "      <td>The man is playing the piano.</td>\n",
              "      <td>The man is playing the guitar.</td>\n",
              "      <td>1.600</td>\n",
              "      <td>7</td>\n",
              "    </tr>\n",
              "    <tr>\n",
              "      <th>8</th>\n",
              "      <td>A man is playing on a guitar and singing.</td>\n",
              "      <td>A woman is playing an acoustic guitar and sing...</td>\n",
              "      <td>2.200</td>\n",
              "      <td>8</td>\n",
              "    </tr>\n",
              "    <tr>\n",
              "      <th>9</th>\n",
              "      <td>A person is throwing a cat on to the ceiling.</td>\n",
              "      <td>A person throws a cat on the ceiling.</td>\n",
              "      <td>5.000</td>\n",
              "      <td>9</td>\n",
              "    </tr>\n",
              "    <tr>\n",
              "      <th>10</th>\n",
              "      <td>The man hit the other man with a stick.</td>\n",
              "      <td>The man spanked the other man with a stick.</td>\n",
              "      <td>4.200</td>\n",
              "      <td>10</td>\n",
              "    </tr>\n",
              "    <tr>\n",
              "      <th>11</th>\n",
              "      <td>A woman picks up and holds a baby kangaroo.</td>\n",
              "      <td>A woman picks up and holds a baby kangaroo in ...</td>\n",
              "      <td>4.600</td>\n",
              "      <td>11</td>\n",
              "    </tr>\n",
              "    <tr>\n",
              "      <th>12</th>\n",
              "      <td>A man is playing a flute.</td>\n",
              "      <td>A man is playing a bamboo flute.</td>\n",
              "      <td>3.867</td>\n",
              "      <td>12</td>\n",
              "    </tr>\n",
              "  </tbody>\n",
              "</table>\n",
              "</div>\n",
              "      <button class=\"colab-df-convert\" onclick=\"convertToInteractive('df-f66ee7b1-b18f-43a9-9d3c-d45bc312c739')\"\n",
              "              title=\"Convert this dataframe to an interactive table.\"\n",
              "              style=\"display:none;\">\n",
              "\n",
              "  <svg xmlns=\"http://www.w3.org/2000/svg\" height=\"24px\"viewBox=\"0 0 24 24\"\n",
              "       width=\"24px\">\n",
              "    <path d=\"M0 0h24v24H0V0z\" fill=\"none\"/>\n",
              "    <path d=\"M18.56 5.44l.94 2.06.94-2.06 2.06-.94-2.06-.94-.94-2.06-.94 2.06-2.06.94zm-11 1L8.5 8.5l.94-2.06 2.06-.94-2.06-.94L8.5 2.5l-.94 2.06-2.06.94zm10 10l.94 2.06.94-2.06 2.06-.94-2.06-.94-.94-2.06-.94 2.06-2.06.94z\"/><path d=\"M17.41 7.96l-1.37-1.37c-.4-.4-.92-.59-1.43-.59-.52 0-1.04.2-1.43.59L10.3 9.45l-7.72 7.72c-.78.78-.78 2.05 0 2.83L4 21.41c.39.39.9.59 1.41.59.51 0 1.02-.2 1.41-.59l7.78-7.78 2.81-2.81c.8-.78.8-2.07 0-2.86zM5.41 20L4 18.59l7.72-7.72 1.47 1.35L5.41 20z\"/>\n",
              "  </svg>\n",
              "      </button>\n",
              "\n",
              "\n",
              "\n",
              "    <div id=\"df-d4980482-05eb-4d33-8274-4fc1c5ca2af1\">\n",
              "      <button class=\"colab-df-quickchart\" onclick=\"quickchart('df-d4980482-05eb-4d33-8274-4fc1c5ca2af1')\"\n",
              "              title=\"Suggest charts.\"\n",
              "              style=\"display:none;\">\n",
              "\n",
              "<svg xmlns=\"http://www.w3.org/2000/svg\" height=\"24px\"viewBox=\"0 0 24 24\"\n",
              "     width=\"24px\">\n",
              "    <g>\n",
              "        <path d=\"M19 3H5c-1.1 0-2 .9-2 2v14c0 1.1.9 2 2 2h14c1.1 0 2-.9 2-2V5c0-1.1-.9-2-2-2zM9 17H7v-7h2v7zm4 0h-2V7h2v10zm4 0h-2v-4h2v4z\"/>\n",
              "    </g>\n",
              "</svg>\n",
              "      </button>\n",
              "    </div>\n",
              "\n",
              "<style>\n",
              "  .colab-df-quickchart {\n",
              "    background-color: #E8F0FE;\n",
              "    border: none;\n",
              "    border-radius: 50%;\n",
              "    cursor: pointer;\n",
              "    display: none;\n",
              "    fill: #1967D2;\n",
              "    height: 32px;\n",
              "    padding: 0 0 0 0;\n",
              "    width: 32px;\n",
              "  }\n",
              "\n",
              "  .colab-df-quickchart:hover {\n",
              "    background-color: #E2EBFA;\n",
              "    box-shadow: 0px 1px 2px rgba(60, 64, 67, 0.3), 0px 1px 3px 1px rgba(60, 64, 67, 0.15);\n",
              "    fill: #174EA6;\n",
              "  }\n",
              "\n",
              "  [theme=dark] .colab-df-quickchart {\n",
              "    background-color: #3B4455;\n",
              "    fill: #D2E3FC;\n",
              "  }\n",
              "\n",
              "  [theme=dark] .colab-df-quickchart:hover {\n",
              "    background-color: #434B5C;\n",
              "    box-shadow: 0px 1px 3px 1px rgba(0, 0, 0, 0.15);\n",
              "    filter: drop-shadow(0px 1px 2px rgba(0, 0, 0, 0.3));\n",
              "    fill: #FFFFFF;\n",
              "  }\n",
              "</style>\n",
              "\n",
              "    <script>\n",
              "      async function quickchart(key) {\n",
              "        const containerElement = document.querySelector('#' + key);\n",
              "        const charts = await google.colab.kernel.invokeFunction(\n",
              "            'suggestCharts', [key], {});\n",
              "      }\n",
              "    </script>\n",
              "\n",
              "      <script>\n",
              "\n",
              "function displayQuickchartButton(domScope) {\n",
              "  let quickchartButtonEl =\n",
              "    domScope.querySelector('#df-d4980482-05eb-4d33-8274-4fc1c5ca2af1 button.colab-df-quickchart');\n",
              "  quickchartButtonEl.style.display =\n",
              "    google.colab.kernel.accessAllowed ? 'block' : 'none';\n",
              "}\n",
              "\n",
              "        displayQuickchartButton(document);\n",
              "      </script>\n",
              "      <style>\n",
              "    .colab-df-container {\n",
              "      display:flex;\n",
              "      flex-wrap:wrap;\n",
              "      gap: 12px;\n",
              "    }\n",
              "\n",
              "    .colab-df-convert {\n",
              "      background-color: #E8F0FE;\n",
              "      border: none;\n",
              "      border-radius: 50%;\n",
              "      cursor: pointer;\n",
              "      display: none;\n",
              "      fill: #1967D2;\n",
              "      height: 32px;\n",
              "      padding: 0 0 0 0;\n",
              "      width: 32px;\n",
              "    }\n",
              "\n",
              "    .colab-df-convert:hover {\n",
              "      background-color: #E2EBFA;\n",
              "      box-shadow: 0px 1px 2px rgba(60, 64, 67, 0.3), 0px 1px 3px 1px rgba(60, 64, 67, 0.15);\n",
              "      fill: #174EA6;\n",
              "    }\n",
              "\n",
              "    [theme=dark] .colab-df-convert {\n",
              "      background-color: #3B4455;\n",
              "      fill: #D2E3FC;\n",
              "    }\n",
              "\n",
              "    [theme=dark] .colab-df-convert:hover {\n",
              "      background-color: #434B5C;\n",
              "      box-shadow: 0px 1px 3px 1px rgba(0, 0, 0, 0.15);\n",
              "      filter: drop-shadow(0px 1px 2px rgba(0, 0, 0, 0.3));\n",
              "      fill: #FFFFFF;\n",
              "    }\n",
              "  </style>\n",
              "\n",
              "      <script>\n",
              "        const buttonEl =\n",
              "          document.querySelector('#df-f66ee7b1-b18f-43a9-9d3c-d45bc312c739 button.colab-df-convert');\n",
              "        buttonEl.style.display =\n",
              "          google.colab.kernel.accessAllowed ? 'block' : 'none';\n",
              "\n",
              "        async function convertToInteractive(key) {\n",
              "          const element = document.querySelector('#df-f66ee7b1-b18f-43a9-9d3c-d45bc312c739');\n",
              "          const dataTable =\n",
              "            await google.colab.kernel.invokeFunction('convertToInteractive',\n",
              "                                                     [key], {});\n",
              "          if (!dataTable) return;\n",
              "\n",
              "          const docLinkHtml = 'Like what you see? Visit the ' +\n",
              "            '<a target=\"_blank\" href=https://colab.research.google.com/notebooks/data_table.ipynb>data table notebook</a>'\n",
              "            + ' to learn more about interactive tables.';\n",
              "          element.innerHTML = '';\n",
              "          dataTable['output_type'] = 'display_data';\n",
              "          await google.colab.output.renderOutput(dataTable, element);\n",
              "          const docLink = document.createElement('div');\n",
              "          docLink.innerHTML = docLinkHtml;\n",
              "          element.appendChild(docLink);\n",
              "        }\n",
              "      </script>\n",
              "    </div>\n",
              "  </div>\n"
            ]
          },
          "metadata": {},
          "execution_count": 6
        }
      ],
      "source": [
        "pd.DataFrame(dataset_stsb['train']).head(13)"
      ]
    },
    {
      "cell_type": "code",
      "execution_count": 7,
      "metadata": {
        "colab": {
          "base_uri": "https://localhost:8080/"
        },
        "id": "iuaz-vJGDGl4",
        "outputId": "1df305f3-ddc9-442c-bc25-38f1be9fca42"
      },
      "outputs": [
        {
          "output_type": "stream",
          "name": "stderr",
          "text": [
            "Some weights of BertForSequenceClassification were not initialized from the model checkpoint at bert-base-uncased and are newly initialized: ['classifier.weight', 'classifier.bias']\n",
            "You should probably TRAIN this model on a down-stream task to be able to use it for predictions and inference.\n"
          ]
        }
      ],
      "source": [
        "task_num_labels = 1\n",
        "\n",
        "from transformers import AutoConfig, BertConfig, AutoModelForSequenceClassification, AutoTokenizer\n",
        "\n",
        "path_name = r\"bert-base-uncased\"\n",
        "\n",
        "config = AutoConfig.from_pretrained(\n",
        "    path_name,\n",
        "    num_labels=task_num_labels,\n",
        ")\n",
        "\n",
        "model = AutoModelForSequenceClassification.from_pretrained(\n",
        "    path_name,\n",
        "    config=config,\n",
        ")\n",
        "\n",
        "tokenizer = AutoTokenizer.from_pretrained(path_name)"
      ]
    },
    {
      "cell_type": "code",
      "execution_count": 8,
      "metadata": {
        "id": "CLtSgB1ZDJJW"
      },
      "outputs": [],
      "source": [
        "def convert_to_stsb_features(example_batch):\n",
        "    inputs = list(zip(example_batch['sentence1'], example_batch['sentence2']))\n",
        "    features = tokenizer.batch_encode_plus(\n",
        "        inputs, max_length=128, truncation=True, padding=\"max_length\")\n",
        "    features[\"labels\"] = example_batch[\"label\"]\n",
        "    return features"
      ]
    },
    {
      "cell_type": "code",
      "execution_count": 9,
      "metadata": {
        "colab": {
          "base_uri": "https://localhost:8080/",
          "height": 17,
          "referenced_widgets": [
            "65c6c12f92744b8082d88d0a4e81b769",
            "dca8774d8083439bb002ea4e7b095afd",
            "d3abad08e0f04047aa70d43e7550a880",
            "781a355a506847a4b249f2f23f1c2e20",
            "022b86bc06b54f759123656fb064c8e2",
            "a07314524896462ab6f958c9b261a434",
            "217e2dac4b5643a5b094b1c7f981295c",
            "b9bfd926653a4ff9bbcf0c4f903849f5",
            "136d9520603e4efba92f78cf6f2b3e68",
            "b987ee2f7e03418dab3ca30dbea2bc6a",
            "932ee96e7c134475bdc800538b0d674d",
            "a11fa44ebfaf488580ff25a6cb8d7c57",
            "a169ae26ff5140308e9026c104caa5f7",
            "bf221370592e40f6845bb97bf8754033",
            "6be55b6e4569405aba7d0fa6c99c4810",
            "299fc7cb378e4967aa013a8d3888b728",
            "88c9f087ad0e4b99a0e33ed3610b7f72",
            "eabdd7f1f60e4e529a82aa1650ffc2ef",
            "76f1597cfced46c3aa0944ba5486006e",
            "87890120352f44ec9b17d7058f95ab82",
            "514392ccdc7d4fdfb0064760372e3f2b",
            "8a9744980c9941428fb2975fd229b385",
            "4ded78d3b6c74d98b37cf531d68503c9",
            "bc0db88bf8984be5af93c2a1cc128636",
            "5ee0b79424234e5c835c1a02156a492e",
            "9588892f8be440f18334c10c22578f59",
            "8a3eb5d24a354ca084a65e1465802695",
            "83d3bfd72d9146fbb27d3f269b5a9830",
            "f891e66b518c43e79c584668d88b2093",
            "de0e5c528b37473593792234191ea47d",
            "e5b8a9b8244844be930cc5494939c54f",
            "d6f6035b8e224757accc8b37c31d2fab",
            "b906b2ed4e7c4111be8da94fc642ba98"
          ]
        },
        "id": "8iKTFFOdDJNP",
        "outputId": "64618969-128e-4f0c-ed4f-849090730cb6"
      },
      "outputs": [
        {
          "output_type": "display_data",
          "data": {
            "text/plain": [
              "Map:   0%|          | 0/5749 [00:00<?, ? examples/s]"
            ],
            "application/vnd.jupyter.widget-view+json": {
              "version_major": 2,
              "version_minor": 0,
              "model_id": "65c6c12f92744b8082d88d0a4e81b769"
            }
          },
          "metadata": {}
        },
        {
          "output_type": "display_data",
          "data": {
            "text/plain": [
              "Map:   0%|          | 0/1500 [00:00<?, ? examples/s]"
            ],
            "application/vnd.jupyter.widget-view+json": {
              "version_major": 2,
              "version_minor": 0,
              "model_id": "a11fa44ebfaf488580ff25a6cb8d7c57"
            }
          },
          "metadata": {}
        },
        {
          "output_type": "display_data",
          "data": {
            "text/plain": [
              "Map:   0%|          | 0/1379 [00:00<?, ? examples/s]"
            ],
            "application/vnd.jupyter.widget-view+json": {
              "version_major": 2,
              "version_minor": 0,
              "model_id": "4ded78d3b6c74d98b37cf531d68503c9"
            }
          },
          "metadata": {}
        }
      ],
      "source": [
        "tokenized_dataset = dataset_stsb.map(\n",
        "            convert_to_stsb_features,\n",
        "            batched=True,\n",
        "            load_from_cache_file=False,\n",
        "            )"
      ]
    },
    {
      "cell_type": "code",
      "execution_count": 10,
      "metadata": {
        "colab": {
          "base_uri": "https://localhost:8080/"
        },
        "id": "MiKZh7lrDJOl",
        "outputId": "0b9b2ce1-e816-4d03-b0c4-d1fb1abe8057"
      },
      "outputs": [
        {
          "output_type": "execute_result",
          "data": {
            "text/plain": [
              "DatasetDict({\n",
              "    train: Dataset({\n",
              "        features: ['sentence1', 'sentence2', 'label', 'idx', 'input_ids', 'token_type_ids', 'attention_mask', 'labels'],\n",
              "        num_rows: 5749\n",
              "    })\n",
              "    validation: Dataset({\n",
              "        features: ['sentence1', 'sentence2', 'label', 'idx', 'input_ids', 'token_type_ids', 'attention_mask', 'labels'],\n",
              "        num_rows: 1500\n",
              "    })\n",
              "    test: Dataset({\n",
              "        features: ['sentence1', 'sentence2', 'label', 'idx', 'input_ids', 'token_type_ids', 'attention_mask', 'labels'],\n",
              "        num_rows: 1379\n",
              "    })\n",
              "})"
            ]
          },
          "metadata": {},
          "execution_count": 10
        }
      ],
      "source": [
        "tokenized_dataset"
      ]
    },
    {
      "cell_type": "code",
      "execution_count": 11,
      "metadata": {
        "id": "3mofFTthDMp_"
      },
      "outputs": [],
      "source": [
        "from transformers.modeling_utils import Conv1D\n",
        "\n",
        "def factorize_to_svd(fc_w, fc_b, rank):\n",
        "    U, S, Vt = np.linalg.svd(fc_w, full_matrices=False)\n",
        "    # truncate SVD and fuse Sigma matrix\n",
        "    w1 = np.dot(np.diag(np.sqrt(S[0:rank])),Vt[0:rank, :])\n",
        "    w2 = np.dot(U[:,0:rank,], np.diag(np.sqrt(S[0:rank])))\n",
        "\n",
        "    # create new layers and insert weights\n",
        "    out_features, in_features = fc_w.shape\n",
        "    is_bias = fc_b is not None\n",
        "\n",
        "    linear1 = nn.Linear(in_features = in_features,\n",
        "                      out_features = rank,\n",
        "                      bias = False)\n",
        "    linear1.weight = nn.Parameter(torch.FloatTensor(w1))\n",
        "\n",
        "    linear2 = nn.Linear(in_features = rank,\n",
        "                      out_features = out_features,\n",
        "                      bias=is_bias)\n",
        "    linear2.weight = nn.Parameter(torch.FloatTensor(w2))\n",
        "    linear2.bias = nn.Parameter(torch.FloatTensor(fc_b))\n",
        "\n",
        "    # create factorized layer\n",
        "    factorized_layer = nn.Sequential(linear1.to(device),linear2.to(device))\n",
        "    return factorized_layer"
      ]
    },
    {
      "cell_type": "markdown",
      "metadata": {
        "id": "pZRp3wD5Dnij"
      },
      "source": [
        "Due to OOM errors with TTM, we need a optimized einsum version"
      ]
    },
    {
      "cell_type": "code",
      "execution_count": 12,
      "metadata": {
        "colab": {
          "base_uri": "https://localhost:8080/"
        },
        "id": "j282BA15DjKB",
        "outputId": "515694af-c8d2-4c88-eb83-e25bbf8527e0"
      },
      "outputs": [
        {
          "output_type": "stream",
          "name": "stdout",
          "text": [
            "Requirement already satisfied: gdown in /usr/local/lib/python3.10/dist-packages (4.6.6)\n",
            "Requirement already satisfied: filelock in /usr/local/lib/python3.10/dist-packages (from gdown) (3.12.2)\n",
            "Requirement already satisfied: requests[socks] in /usr/local/lib/python3.10/dist-packages (from gdown) (2.27.1)\n",
            "Requirement already satisfied: six in /usr/local/lib/python3.10/dist-packages (from gdown) (1.16.0)\n",
            "Requirement already satisfied: tqdm in /usr/local/lib/python3.10/dist-packages (from gdown) (4.65.0)\n",
            "Requirement already satisfied: beautifulsoup4 in /usr/local/lib/python3.10/dist-packages (from gdown) (4.11.2)\n",
            "Requirement already satisfied: soupsieve>1.2 in /usr/local/lib/python3.10/dist-packages (from beautifulsoup4->gdown) (2.4.1)\n",
            "Requirement already satisfied: urllib3<1.27,>=1.21.1 in /usr/local/lib/python3.10/dist-packages (from requests[socks]->gdown) (1.26.16)\n",
            "Requirement already satisfied: certifi>=2017.4.17 in /usr/local/lib/python3.10/dist-packages (from requests[socks]->gdown) (2023.5.7)\n",
            "Requirement already satisfied: charset-normalizer~=2.0.0 in /usr/local/lib/python3.10/dist-packages (from requests[socks]->gdown) (2.0.12)\n",
            "Requirement already satisfied: idna<4,>=2.5 in /usr/local/lib/python3.10/dist-packages (from requests[socks]->gdown) (3.4)\n",
            "Requirement already satisfied: PySocks!=1.5.7,>=1.5.6 in /usr/local/lib/python3.10/dist-packages (from requests[socks]->gdown) (1.7.1)\n",
            "Downloading...\n",
            "From: https://drive.google.com/uc?id=1jfJWEtEo9CIbH-I56EFZ8_EyK_PcZtNn\n",
            "To: /content/ttm_opt.py\n",
            "100% 5.47k/5.47k [00:00<00:00, 18.6MB/s]\n"
          ]
        }
      ],
      "source": [
        "!pip install gdown\n",
        "!gdown https://drive.google.com/uc?id=1jfJWEtEo9CIbH-I56EFZ8_EyK_PcZtNn"
      ]
    },
    {
      "cell_type": "code",
      "execution_count": 13,
      "metadata": {
        "id": "grdwkcVgDR1P"
      },
      "outputs": [],
      "source": [
        "from transformers import Trainer\n",
        "import evaluate as ev\n",
        "import numpy as np\n",
        "\n",
        "from transformers import TrainingArguments, Trainer, EvalPrediction"
      ]
    },
    {
      "cell_type": "code",
      "execution_count": 14,
      "metadata": {
        "id": "C-SaqMaKDR6V"
      },
      "outputs": [],
      "source": [
        "metric = ev.load(\"glue\", 'stsb')"
      ]
    },
    {
      "cell_type": "code",
      "execution_count": 15,
      "metadata": {
        "id": "KZHPCtjtDMuJ"
      },
      "outputs": [],
      "source": [
        "def compute_metrics(p: EvalPrediction):\n",
        "        preds_ = p.predictions[0] if isinstance(p.predictions, tuple) else p.predictions\n",
        "        preds_ = np.squeeze(preds_)\n",
        "\n",
        "        result = metric.compute(predictions=preds_,\n",
        "                                references=p.label_ids)\n",
        "        if len(result) > 1:\n",
        "            result[\"combined_score\"] = np.mean(list(result.values())).item()\n",
        "        return result"
      ]
    },
    {
      "cell_type": "code",
      "execution_count": 18,
      "metadata": {
        "id": "EOGsNsowS8Tm"
      },
      "outputs": [],
      "source": [
        "#!pip install --upgrade accelerate"
      ]
    },
    {
      "cell_type": "code",
      "execution_count": 16,
      "metadata": {
        "id": "Ee2Y2YqcDMvX"
      },
      "outputs": [],
      "source": [
        "training_args = TrainingArguments(\n",
        "    learning_rate=5e-5,\n",
        "    num_train_epochs=1,\n",
        "    per_device_train_batch_size=16,\n",
        "    per_device_eval_batch_size=128,\n",
        "    save_steps=100,\n",
        "    eval_steps=100,\n",
        "    output_dir=\"./bert_stsb_128\",\n",
        "    overwrite_output_dir=True,\n",
        "    # The next line is important to ensure the dataset labels are properly passed to the model\n",
        "    remove_unused_columns=True,\n",
        "    seed=297104,\n",
        "    )"
      ]
    },
    {
      "cell_type": "code",
      "execution_count": 17,
      "metadata": {
        "id": "VwzH9ninDYIk"
      },
      "outputs": [],
      "source": [
        "trainer = Trainer(\n",
        "    model=model,\n",
        "    args=training_args,\n",
        "    train_dataset=tokenized_dataset[\"train\"],\n",
        "    eval_dataset=tokenized_dataset[\"validation\"],\n",
        "    compute_metrics=compute_metrics,\n",
        ")"
      ]
    },
    {
      "cell_type": "code",
      "execution_count": 19,
      "metadata": {
        "colab": {
          "base_uri": "https://localhost:8080/",
          "height": 165
        },
        "id": "pONTTE1YDZ2S",
        "outputId": "ae42d5a9-cf86-4948-eaf8-e9e9d5b11afe"
      },
      "outputs": [
        {
          "output_type": "stream",
          "name": "stderr",
          "text": [
            "/usr/local/lib/python3.10/dist-packages/transformers/optimization.py:411: FutureWarning: This implementation of AdamW is deprecated and will be removed in a future version. Use the PyTorch implementation torch.optim.AdamW instead, or set `no_deprecation_warning=True` to disable this warning\n",
            "  warnings.warn(\n"
          ]
        },
        {
          "output_type": "display_data",
          "data": {
            "text/plain": [
              "<IPython.core.display.HTML object>"
            ],
            "text/html": [
              "\n",
              "    <div>\n",
              "      \n",
              "      <progress value='360' max='360' style='width:300px; height:20px; vertical-align: middle;'></progress>\n",
              "      [360/360 02:32, Epoch 1/1]\n",
              "    </div>\n",
              "    <table border=\"1\" class=\"dataframe\">\n",
              "  <thead>\n",
              " <tr style=\"text-align: left;\">\n",
              "      <th>Step</th>\n",
              "      <th>Training Loss</th>\n",
              "    </tr>\n",
              "  </thead>\n",
              "  <tbody>\n",
              "  </tbody>\n",
              "</table><p>"
            ]
          },
          "metadata": {}
        },
        {
          "output_type": "execute_result",
          "data": {
            "text/plain": [
              "TrainOutput(global_step=360, training_loss=0.931370120578342, metrics={'train_runtime': 155.8948, 'train_samples_per_second': 36.877, 'train_steps_per_second': 2.309, 'total_flos': 378152969002752.0, 'train_loss': 0.931370120578342, 'epoch': 1.0})"
            ]
          },
          "metadata": {},
          "execution_count": 19
        }
      ],
      "source": [
        "trainer.train()"
      ]
    },
    {
      "cell_type": "code",
      "execution_count": null,
      "metadata": {
        "id": "tEsyR703DZ7U"
      },
      "outputs": [],
      "source": [
        "trainer.evaluate()"
      ]
    },
    {
      "cell_type": "code",
      "execution_count": 20,
      "metadata": {
        "colab": {
          "base_uri": "https://localhost:8080/",
          "height": 37
        },
        "id": "H1v6p4c7nTlH",
        "outputId": "9c38b030-e069-4be6-8020-0ae440bc97d3"
      },
      "outputs": [
        {
          "output_type": "display_data",
          "data": {
            "text/plain": [
              "<IPython.core.display.HTML object>"
            ],
            "text/html": [
              "\n",
              "    <div>\n",
              "      \n",
              "      <progress value='12' max='12' style='width:300px; height:20px; vertical-align: middle;'></progress>\n",
              "      [12/12 00:09]\n",
              "    </div>\n",
              "    "
            ]
          },
          "metadata": {}
        }
      ],
      "source": [
        "trainer.save_model()  # Saves the tokenizer too for easy upload\n",
        "#trainer.log_metrics(\"train\", metrics)\n",
        "metrics = trainer.evaluate()\n",
        "trainer.save_metrics(\"eval\", metrics)\n",
        "trainer.save_state()\n",
        "sst_new_path = r\"./bert_stsb_128\""
      ]
    },
    {
      "cell_type": "code",
      "execution_count": 21,
      "metadata": {
        "colab": {
          "base_uri": "https://localhost:8080/"
        },
        "id": "32LTqSTdDaAa",
        "outputId": "dde0ff17-a916-4a6e-fad9-df07e2be5471"
      },
      "outputs": [
        {
          "output_type": "execute_result",
          "data": {
            "text/plain": [
              "109.48300900000001"
            ]
          },
          "metadata": {},
          "execution_count": 21
        }
      ],
      "source": [
        "#our model's params\n",
        "orig_param = trainer.model.num_parameters() / 1000 / 1000\n",
        "orig_param"
      ]
    },
    {
      "cell_type": "code",
      "execution_count": 22,
      "metadata": {
        "id": "mUL7eBJ8D_y3"
      },
      "outputs": [],
      "source": [
        "device='cuda'\n",
        "def svd_compress_bert_ffn(model_to, svd_rank = 51):\n",
        "    for i in range(model_to.config.num_hidden_layers):\n",
        "        # fc part\n",
        "        fc_w = model_to.bert.encoder.layer[i].intermediate.dense.weight.data.cpu().data.numpy()\n",
        "        fc_b = model_to.bert.encoder.layer[i].intermediate.dense.bias.data.cpu().data.numpy()\n",
        "        factorized_layer = factorize_to_svd(fc_w, fc_b, rank = svd_rank)\n",
        "        model_to.bert.encoder.layer[i].intermediate.dense = factorized_layer\n",
        "\n",
        "        fc_w = model_to.bert.encoder.layer[i].output.dense.weight.data.cpu().data.numpy()\n",
        "        fc_b = model_to.bert.encoder.layer[i].output.dense.bias.data.cpu().data.numpy()\n",
        "        factorized_layer = factorize_to_svd(fc_w, fc_b, rank = svd_rank)\n",
        "        model_to.bert.encoder.layer[i].output.dense = factorized_layer"
      ]
    },
    {
      "cell_type": "code",
      "execution_count": 23,
      "metadata": {
        "id": "0y2ESCKDD_2u"
      },
      "outputs": [],
      "source": [
        "from typing import List, Callable\n",
        "import torch\n",
        "import torch.nn as nn\n",
        "import tntorch as tn\n",
        "from math import sqrt\n",
        "\n",
        "from ttm_opt import einsum_forward\n",
        "\n",
        "class TTLinearOpt(nn.Module):\n",
        "    def __init__(self, in_features: int, out_features: int, ranks: List[int], input_dims: List[int],\n",
        "                 output_dims: List[int], bias: bool = True, device=None, dtype=None,\n",
        "                 forward_fn: Callable = einsum_forward):\n",
        "        super().__init__()\n",
        "        self.in_features = in_features\n",
        "        self.out_features = out_features\n",
        "        self.ranks = list(ranks)\n",
        "        self.input_dims = input_dims\n",
        "        self.output_dims = output_dims\n",
        "        self.forward_fn = forward_fn\n",
        "\n",
        "        # Initialize weights from uniform[-1 / sqrt(in_features), 1 / sqrt(in_features)]\n",
        "        factory_kwargs = {\"device\": device, \"dtype\": dtype}\n",
        "        init = torch.rand(in_features, out_features, **factory_kwargs)\n",
        "        init = (2 * init - 1) / sqrt(in_features)\n",
        "\n",
        "        self.weight = tn.TTMatrix(init, list(ranks), input_dims, output_dims)\n",
        "\n",
        "        # torch doesn't recognize attributes of self.weight as parameters,\n",
        "        # so we have to use ParameterList\n",
        "        self.cores = nn.ParameterList([nn.Parameter(core) for core in self.weight.cores])\n",
        "        self.weight.cores = self.cores\n",
        "\n",
        "        if bias:\n",
        "            init = torch.rand(out_features, **factory_kwargs)\n",
        "            init = (2 * init - 1) / sqrt(out_features)\n",
        "            self.bias = nn.Parameter(init)\n",
        "        else:\n",
        "            self.register_parameter('bias', None)\n",
        "\n",
        "\n",
        "    def forward(self, x: torch.Tensor):\n",
        "        res = self.forward_fn(self.cores, x)\n",
        "\n",
        "        new_shape = x.shape[:-1] + (self.out_features,)\n",
        "        res = res.reshape(*new_shape)\n",
        "\n",
        "        if self.bias is not None:\n",
        "            res += self.bias\n",
        "\n",
        "        return res\n",
        "\n",
        "    def set_weight(self, new_weights: torch.Tensor):\n",
        "        # in regular linear layer weights are transposed, so we transpose back\n",
        "        new_weights = new_weights.clone().detach().T\n",
        "\n",
        "        shape = torch.Size((self.in_features, self.out_features))\n",
        "        assert new_weights.shape == shape, f\"Expected shape {shape}, got {new_weights.shape}\"\n",
        "\n",
        "        self.weight = tn.TTMatrix(new_weights, self.ranks, self.input_dims, self.output_dims)\n",
        "        self.cores = nn.ParameterList([nn.Parameter(core) for core in self.weight.cores])\n",
        "        self.weight.cores = self.cores\n",
        "\n",
        "    def set_from_linear(self, linear: nn.Linear):\n",
        "        self.set_weight(linear.weight.data)\n",
        "        self.bias = nn.Parameter(linear.bias.data.clone()) if linear.bias is not None else None"
      ]
    },
    {
      "cell_type": "code",
      "execution_count": 24,
      "metadata": {
        "id": "oE48XbgqEHF_"
      },
      "outputs": [],
      "source": [
        "def ttm_compress_bert_ffn(model, rank):\n",
        "    if hasattr(model, \"bert\") and hasattr(model.bert, \"encoder\"):\n",
        "        encoder = model.bert.encoder\n",
        "    elif hasattr(model, \"encoder\"):\n",
        "        encoder = model.encoder\n",
        "    else:\n",
        "        raise ValueError(\"Expected model to have attribute 'encoder' or 'bert.encoder'.\")\n",
        "\n",
        "    for i, layer in enumerate(encoder.layer):\n",
        "        token_dim, hidden_dim = layer.intermediate.dense.weight.T.shape\n",
        "\n",
        "        tt_weight = TTLinearOpt(768, 3072, [rank]*2,  [8,12,8], [12,16,16], bias=True)\n",
        "        tt_weight.set_from_linear(layer.intermediate.dense)\n",
        "\n",
        "        layer.intermediate.dense = tt_weight\n",
        "\n",
        "        # second linear layerhas reversed dimensions,\n",
        "        # so we swap input_dims and output_dims\n",
        "        tt_weight = TTLinearOpt(3072, 768, [rank]*2, [12,16,16], [8,12,8], bias=True)\n",
        "        tt_weight.set_from_linear(layer.output.dense)\n",
        "\n",
        "        layer.output.dense = tt_weight\n",
        "\n",
        "    return model"
      ]
    },
    {
      "cell_type": "code",
      "execution_count": 25,
      "metadata": {
        "id": "3z3Ew_2_EHoe"
      },
      "outputs": [],
      "source": [
        "from tqdm import tqdm"
      ]
    },
    {
      "cell_type": "code",
      "execution_count": 27,
      "metadata": {
        "colab": {
          "base_uri": "https://localhost:8080/",
          "height": 282
        },
        "id": "c3aaFsYuEMBY",
        "outputId": "5f9c6ec1-b344-45a7-cb69-61345758d9ba"
      },
      "outputs": [
        {
          "output_type": "stream",
          "name": "stderr",
          "text": [
            "\r  0%|          | 0/3 [00:00<?, ?it/s]"
          ]
        },
        {
          "output_type": "display_data",
          "data": {
            "text/plain": [
              "<IPython.core.display.HTML object>"
            ],
            "text/html": [
              "\n",
              "    <div>\n",
              "      \n",
              "      <progress value='360' max='360' style='width:300px; height:20px; vertical-align: middle;'></progress>\n",
              "      [360/360 02:22, Epoch 1/1]\n",
              "    </div>\n",
              "    <table border=\"1\" class=\"dataframe\">\n",
              "  <thead>\n",
              " <tr style=\"text-align: left;\">\n",
              "      <th>Step</th>\n",
              "      <th>Training Loss</th>\n",
              "    </tr>\n",
              "  </thead>\n",
              "  <tbody>\n",
              "  </tbody>\n",
              "</table><p>"
            ]
          },
          "metadata": {}
        },
        {
          "output_type": "display_data",
          "data": {
            "text/plain": [
              "<IPython.core.display.HTML object>"
            ],
            "text/html": [
              "\n",
              "    <div>\n",
              "      \n",
              "      <progress value='48' max='12' style='width:300px; height:20px; vertical-align: middle;'></progress>\n",
              "      [12/12 09:38]\n",
              "    </div>\n",
              "    "
            ]
          },
          "metadata": {}
        },
        {
          "output_type": "stream",
          "name": "stderr",
          "text": [
            "\r 33%|███▎      | 1/3 [03:16<06:33, 196.87s/it]"
          ]
        },
        {
          "output_type": "display_data",
          "data": {
            "text/plain": [
              "<IPython.core.display.HTML object>"
            ],
            "text/html": [
              "\n",
              "    <div>\n",
              "      \n",
              "      <progress value='360' max='360' style='width:300px; height:20px; vertical-align: middle;'></progress>\n",
              "      [360/360 02:17, Epoch 1/1]\n",
              "    </div>\n",
              "    <table border=\"1\" class=\"dataframe\">\n",
              "  <thead>\n",
              " <tr style=\"text-align: left;\">\n",
              "      <th>Step</th>\n",
              "      <th>Training Loss</th>\n",
              "    </tr>\n",
              "  </thead>\n",
              "  <tbody>\n",
              "  </tbody>\n",
              "</table><p>"
            ]
          },
          "metadata": {}
        },
        {
          "output_type": "stream",
          "name": "stderr",
          "text": [
            "\r 67%|██████▋   | 2/3 [06:10<03:03, 183.35s/it]"
          ]
        },
        {
          "output_type": "display_data",
          "data": {
            "text/plain": [
              "<IPython.core.display.HTML object>"
            ],
            "text/html": [
              "\n",
              "    <div>\n",
              "      \n",
              "      <progress value='360' max='360' style='width:300px; height:20px; vertical-align: middle;'></progress>\n",
              "      [360/360 02:15, Epoch 1/1]\n",
              "    </div>\n",
              "    <table border=\"1\" class=\"dataframe\">\n",
              "  <thead>\n",
              " <tr style=\"text-align: left;\">\n",
              "      <th>Step</th>\n",
              "      <th>Training Loss</th>\n",
              "    </tr>\n",
              "  </thead>\n",
              "  <tbody>\n",
              "  </tbody>\n",
              "</table><p>"
            ]
          },
          "metadata": {}
        },
        {
          "output_type": "stream",
          "name": "stderr",
          "text": [
            "100%|██████████| 3/3 [09:18<00:00, 186.26s/it]\n"
          ]
        }
      ],
      "source": [
        "dd = []\n",
        "device='cuda'\n",
        "for ii in tqdm([6,#10,20]):\n",
        "    trainer.model = AutoModelForSequenceClassification.from_pretrained(\n",
        "                                                    sst_new_path,\n",
        "                                                    config=config,\n",
        "                                                    )\n",
        "    svd_compress_bert_ffn(trainer.model, ii)\n",
        "    trainer.model.to('cuda')\n",
        "    trainer.train()\n",
        "    new_param = trainer.model.num_parameters() / 1000 / 1000\n",
        "    new_param /= orig_param\n",
        "    ar = trainer.evaluate(tokenized_dataset[\"validation\"])\n",
        "    dd.append([new_param, ar['eval_pearson']])"
      ]
    },
    {
      "cell_type": "code",
      "execution_count": 32,
      "metadata": {
        "colab": {
          "base_uri": "https://localhost:8080/",
          "height": 282
        },
        "id": "SSs-Ut50ENgm",
        "outputId": "10f57ed2-c627-4058-dcd2-bf53eab14cf3"
      },
      "outputs": [
        {
          "output_type": "stream",
          "name": "stderr",
          "text": [
            "\r  0%|          | 0/3 [00:00<?, ?it/s]"
          ]
        },
        {
          "output_type": "display_data",
          "data": {
            "text/plain": [
              "<IPython.core.display.HTML object>"
            ],
            "text/html": [
              "\n",
              "    <div>\n",
              "      \n",
              "      <progress value='360' max='360' style='width:300px; height:20px; vertical-align: middle;'></progress>\n",
              "      [360/360 02:29, Epoch 1/1]\n",
              "    </div>\n",
              "    <table border=\"1\" class=\"dataframe\">\n",
              "  <thead>\n",
              " <tr style=\"text-align: left;\">\n",
              "      <th>Step</th>\n",
              "      <th>Training Loss</th>\n",
              "    </tr>\n",
              "  </thead>\n",
              "  <tbody>\n",
              "  </tbody>\n",
              "</table><p>"
            ]
          },
          "metadata": {}
        },
        {
          "output_type": "display_data",
          "data": {
            "text/plain": [
              "<IPython.core.display.HTML object>"
            ],
            "text/html": [
              "\n",
              "    <div>\n",
              "      \n",
              "      <progress value='108' max='12' style='width:300px; height:20px; vertical-align: middle;'></progress>\n",
              "      [12/12 30:33]\n",
              "    </div>\n",
              "    "
            ]
          },
          "metadata": {}
        },
        {
          "output_type": "stream",
          "name": "stderr",
          "text": [
            "\r 33%|███▎      | 1/3 [02:59<05:59, 179.55s/it]"
          ]
        },
        {
          "output_type": "display_data",
          "data": {
            "text/plain": [
              "<IPython.core.display.HTML object>"
            ],
            "text/html": [
              "\n",
              "    <div>\n",
              "      \n",
              "      <progress value='360' max='360' style='width:300px; height:20px; vertical-align: middle;'></progress>\n",
              "      [360/360 02:43, Epoch 1/1]\n",
              "    </div>\n",
              "    <table border=\"1\" class=\"dataframe\">\n",
              "  <thead>\n",
              " <tr style=\"text-align: left;\">\n",
              "      <th>Step</th>\n",
              "      <th>Training Loss</th>\n",
              "    </tr>\n",
              "  </thead>\n",
              "  <tbody>\n",
              "  </tbody>\n",
              "</table><p>"
            ]
          },
          "metadata": {}
        },
        {
          "output_type": "stream",
          "name": "stderr",
          "text": [
            "\r 67%|██████▋   | 2/3 [06:19<03:11, 191.35s/it]"
          ]
        },
        {
          "output_type": "display_data",
          "data": {
            "text/plain": [
              "<IPython.core.display.HTML object>"
            ],
            "text/html": [
              "\n",
              "    <div>\n",
              "      \n",
              "      <progress value='360' max='360' style='width:300px; height:20px; vertical-align: middle;'></progress>\n",
              "      [360/360 02:34, Epoch 1/1]\n",
              "    </div>\n",
              "    <table border=\"1\" class=\"dataframe\">\n",
              "  <thead>\n",
              " <tr style=\"text-align: left;\">\n",
              "      <th>Step</th>\n",
              "      <th>Training Loss</th>\n",
              "    </tr>\n",
              "  </thead>\n",
              "  <tbody>\n",
              "  </tbody>\n",
              "</table><p>"
            ]
          },
          "metadata": {}
        },
        {
          "output_type": "stream",
          "name": "stderr",
          "text": [
            "100%|██████████| 3/3 [09:54<00:00, 198.08s/it]\n"
          ]
        }
      ],
      "source": [
        "dd_ttm = []\n",
        "for ii in tqdm([6,#10, 20]): #,42,48,54,60,66,72,78,84]):\n",
        "    trainer.model = AutoModelForSequenceClassification.from_pretrained(\n",
        "                                                    sst_new_path,\n",
        "                                                    config=config,\n",
        "                                                    )\n",
        "    ttm_compress_bert_ffn(trainer.model,ii)\n",
        "    trainer.model.to('cuda')\n",
        "    trainer.train()\n",
        "    new_param = trainer.model.num_parameters() / 1000 / 1000\n",
        "    new_param /= orig_param\n",
        "    ar = trainer.evaluate(tokenized_dataset[\"validation\"])\n",
        "    dd_ttm.append([new_param, ar['eval_pearson']])"
      ]
    },
    {
      "cell_type": "code",
      "execution_count": 29,
      "metadata": {
        "id": "9FaIDTuDETev"
      },
      "outputs": [],
      "source": [
        "import seaborn as sns\n",
        "import matplotlib.pyplot as plt"
      ]
    },
    {
      "cell_type": "code",
      "execution_count": 33,
      "metadata": {
        "colab": {
          "base_uri": "https://localhost:8080/",
          "height": 466
        },
        "id": "3HZ4pwn8EVd7",
        "outputId": "f19a9848-d503-4656-cfc5-677137633459"
      },
      "outputs": [
        {
          "output_type": "execute_result",
          "data": {
            "text/plain": [
              "<Axes: xlabel='% of original params', ylabel='1'>"
            ]
          },
          "metadata": {},
          "execution_count": 33
        },
        {
          "output_type": "display_data",
          "data": {
            "text/plain": [
              "<Figure size 640x480 with 1 Axes>"
            ],
            "image/png": "[encoded data removed]"
          },
          "metadata": {}
        }
      ],
      "source": [
        "ax = sns.lineplot(x=0, y=1, data = pd.DataFrame(dd), label='Pearson SVD')\n",
        "plt.axhline(y=0.89, ls='--', c='red') #non-compressed accuracy\n",
        "ax.set(xlabel ='% of original params')\n",
        "sns.lineplot(x=0, y=1, data = pd.DataFrame(dd_ttm), label='Pearson TTM')"
      ]
    },
    {
      "cell_type": "code",
      "source": [],
      "metadata": {
        "id": "LJ3a1fOIdJFD"
      },
      "execution_count": null,
      "outputs": []
    }
  ],
  "metadata": {
    "accelerator": "GPU",
    "colab": {
      "collapsed_sections": [
        "l1CVH6bI9_Do"
      ],
      "provenance": []
    },
    "gpuClass": "standard",
    "kernelspec": {
      "display_name": "Python 3",
      "language": "python",
      "name": "python3"
    },
    "language_info": {
      "codemirror_mode": {
        "name": "ipython",
        "version": 3
      },
      "file_extension": ".py",
      "mimetype": "text/x-python",
      "name": "python",
      "nbconvert_exporter": "python",
      "pygments_lexer": "ipython3",
      "version": "3.7.4"
    },
    "widgets": {
      "application/vnd.jupyter.widget-state+json": {
        "30a52f7a34b5472fa2f2efbbae7ca015": {
          "model_module": "@jupyter-widgets/controls",
          "model_name": "HBoxModel",
          "model_module_version": "1.5.0",
          "state": {
            "_dom_classes": [],
            "_model_module": "@jupyter-widgets/controls",
            "_model_module_version": "1.5.0",
            "_model_name": "HBoxModel",
            "_view_count": null,
            "_view_module": "@jupyter-widgets/controls",
            "_view_module_version": "1.5.0",
            "_view_name": "HBoxView",
            "box_style": "",
            "children": [
              "IPY_MODEL_56c99090ade34b3099c6d09a736b0711",
              "IPY_MODEL_aab854314d6e41d6ab066af991d1e0d5",
              "IPY_MODEL_007f49db794840bdb81f665e34ba8105"
            ],
            "layout": "IPY_MODEL_2f16fb2ca831408492c48d35e6e4eb35"
          }
        },
        "56c99090ade34b3099c6d09a736b0711": {
          "model_module": "@jupyter-widgets/controls",
          "model_name": "HTMLModel",
          "model_module_version": "1.5.0",
          "state": {
            "_dom_classes": [],
            "_model_module": "@jupyter-widgets/controls",
            "_model_module_version": "1.5.0",
            "_model_name": "HTMLModel",
            "_view_count": null,
            "_view_module": "@jupyter-widgets/controls",
            "_view_module_version": "1.5.0",
            "_view_name": "HTMLView",
            "description": "",
            "description_tooltip": null,
            "layout": "IPY_MODEL_9f9b618f1c6749e792bae2d4c6808921",
            "placeholder": "​",
            "style": "IPY_MODEL_d9fb4f73805b467c90758a24267d84e7",
            "value": "Downloading (…)olve/main/vocab.json: 100%"
          }
        },
        "aab854314d6e41d6ab066af991d1e0d5": {
          "model_module": "@jupyter-widgets/controls",
          "model_name": "FloatProgressModel",
          "model_module_version": "1.5.0",
          "state": {
            "_dom_classes": [],
            "_model_module": "@jupyter-widgets/controls",
            "_model_module_version": "1.5.0",
            "_model_name": "FloatProgressModel",
            "_view_count": null,
            "_view_module": "@jupyter-widgets/controls",
            "_view_module_version": "1.5.0",
            "_view_name": "ProgressView",
            "bar_style": "success",
            "description": "",
            "description_tooltip": null,
            "layout": "IPY_MODEL_a2faf5df81cc4c54a26fd61155680fa0",
            "max": 1042301,
            "min": 0,
            "orientation": "horizontal",
            "style": "IPY_MODEL_11fcd1cea30b4542b0d787b96f5ffae5",
            "value": 1042301
          }
        },
        "007f49db794840bdb81f665e34ba8105": {
          "model_module": "@jupyter-widgets/controls",
          "model_name": "HTMLModel",
          "model_module_version": "1.5.0",
          "state": {
            "_dom_classes": [],
            "_model_module": "@jupyter-widgets/controls",
            "_model_module_version": "1.5.0",
            "_model_name": "HTMLModel",
            "_view_count": null,
            "_view_module": "@jupyter-widgets/controls",
            "_view_module_version": "1.5.0",
            "_view_name": "HTMLView",
            "description": "",
            "description_tooltip": null,
            "layout": "IPY_MODEL_e7f93bc329324694a050f75079617d84",
            "placeholder": "​",
            "style": "IPY_MODEL_b67dd1a3622c4f5dabb780e07a152e40",
            "value": " 1.04M/1.04M [00:00&lt;00:00, 6.77MB/s]"
          }
        },
        "2f16fb2ca831408492c48d35e6e4eb35": {
          "model_module": "@jupyter-widgets/base",
          "model_name": "LayoutModel",
          "model_module_version": "1.2.0",
          "state": {
            "_model_module": "@jupyter-widgets/base",
            "_model_module_version": "1.2.0",
            "_model_name": "LayoutModel",
            "_view_count": null,
            "_view_module": "@jupyter-widgets/base",
            "_view_module_version": "1.2.0",
            "_view_name": "LayoutView",
            "align_content": null,
            "align_items": null,
            "align_self": null,
            "border": null,
            "bottom": null,
            "display": null,
            "flex": null,
            "flex_flow": null,
            "grid_area": null,
            "grid_auto_columns": null,
            "grid_auto_flow": null,
            "grid_auto_rows": null,
            "grid_column": null,
            "grid_gap": null,
            "grid_row": null,
            "grid_template_areas": null,
            "grid_template_columns": null,
            "grid_template_rows": null,
            "height": null,
            "justify_content": null,
            "justify_items": null,
            "left": null,
            "margin": null,
            "max_height": null,
            "max_width": null,
            "min_height": null,
            "min_width": null,
            "object_fit": null,
            "object_position": null,
            "order": null,
            "overflow": null,
            "overflow_x": null,
            "overflow_y": null,
            "padding": null,
            "right": null,
            "top": null,
            "visibility": null,
            "width": null
          }
        },
        "9f9b618f1c6749e792bae2d4c6808921": {
          "model_module": "@jupyter-widgets/base",
          "model_name": "LayoutModel",
          "model_module_version": "1.2.0",
          "state": {
            "_model_module": "@jupyter-widgets/base",
            "_model_module_version": "1.2.0",
            "_model_name": "LayoutModel",
            "_view_count": null,
            "_view_module": "@jupyter-widgets/base",
            "_view_module_version": "1.2.0",
            "_view_name": "LayoutView",
            "align_content": null,
            "align_items": null,
            "align_self": null,
            "border": null,
            "bottom": null,
            "display": null,
            "flex": null,
            "flex_flow": null,
            "grid_area": null,
            "grid_auto_columns": null,
            "grid_auto_flow": null,
            "grid_auto_rows": null,
            "grid_column": null,
            "grid_gap": null,
            "grid_row": null,
            "grid_template_areas": null,
            "grid_template_columns": null,
            "grid_template_rows": null,
            "height": null,
            "justify_content": null,
            "justify_items": null,
            "left": null,
            "margin": null,
            "max_height": null,
            "max_width": null,
            "min_height": null,
            "min_width": null,
            "object_fit": null,
            "object_position": null,
            "order": null,
            "overflow": null,
            "overflow_x": null,
            "overflow_y": null,
            "padding": null,
            "right": null,
            "top": null,
            "visibility": null,
            "width": null
          }
        },
        "d9fb4f73805b467c90758a24267d84e7": {
          "model_module": "@jupyter-widgets/controls",
          "model_name": "DescriptionStyleModel",
          "model_module_version": "1.5.0",
          "state": {
            "_model_module": "@jupyter-widgets/controls",
            "_model_module_version": "1.5.0",
            "_model_name": "DescriptionStyleModel",
            "_view_count": null,
            "_view_module": "@jupyter-widgets/base",
            "_view_module_version": "1.2.0",
            "_view_name": "StyleView",
            "description_width": ""
          }
        },
        "a2faf5df81cc4c54a26fd61155680fa0": {
          "model_module": "@jupyter-widgets/base",
          "model_name": "LayoutModel",
          "model_module_version": "1.2.0",
          "state": {
            "_model_module": "@jupyter-widgets/base",
            "_model_module_version": "1.2.0",
            "_model_name": "LayoutModel",
            "_view_count": null,
            "_view_module": "@jupyter-widgets/base",
            "_view_module_version": "1.2.0",
            "_view_name": "LayoutView",
            "align_content": null,
            "align_items": null,
            "align_self": null,
            "border": null,
            "bottom": null,
            "display": null,
            "flex": null,
            "flex_flow": null,
            "grid_area": null,
            "grid_auto_columns": null,
            "grid_auto_flow": null,
            "grid_auto_rows": null,
            "grid_column": null,
            "grid_gap": null,
            "grid_row": null,
            "grid_template_areas": null,
            "grid_template_columns": null,
            "grid_template_rows": null,
            "height": null,
            "justify_content": null,
            "justify_items": null,
            "left": null,
            "margin": null,
            "max_height": null,
            "max_width": null,
            "min_height": null,
            "min_width": null,
            "object_fit": null,
            "object_position": null,
            "order": null,
            "overflow": null,
            "overflow_x": null,
            "overflow_y": null,
            "padding": null,
            "right": null,
            "top": null,
            "visibility": null,
            "width": null
          }
        },
        "11fcd1cea30b4542b0d787b96f5ffae5": {
          "model_module": "@jupyter-widgets/controls",
          "model_name": "ProgressStyleModel",
          "model_module_version": "1.5.0",
          "state": {
            "_model_module": "@jupyter-widgets/controls",
            "_model_module_version": "1.5.0",
            "_model_name": "ProgressStyleModel",
            "_view_count": null,
            "_view_module": "@jupyter-widgets/base",
            "_view_module_version": "1.2.0",
            "_view_name": "StyleView",
            "bar_color": null,
            "description_width": ""
          }
        },
        "e7f93bc329324694a050f75079617d84": {
          "model_module": "@jupyter-widgets/base",
          "model_name": "LayoutModel",
          "model_module_version": "1.2.0",
          "state": {
            "_model_module": "@jupyter-widgets/base",
            "_model_module_version": "1.2.0",
            "_model_name": "LayoutModel",
            "_view_count": null,
            "_view_module": "@jupyter-widgets/base",
            "_view_module_version": "1.2.0",
            "_view_name": "LayoutView",
            "align_content": null,
            "align_items": null,
            "align_self": null,
            "border": null,
            "bottom": null,
            "display": null,
            "flex": null,
            "flex_flow": null,
            "grid_area": null,
            "grid_auto_columns": null,
            "grid_auto_flow": null,
            "grid_auto_rows": null,
            "grid_column": null,
            "grid_gap": null,
            "grid_row": null,
            "grid_template_areas": null,
            "grid_template_columns": null,
            "grid_template_rows": null,
            "height": null,
            "justify_content": null,
            "justify_items": null,
            "left": null,
            "margin": null,
            "max_height": null,
            "max_width": null,
            "min_height": null,
            "min_width": null,
            "object_fit": null,
            "object_position": null,
            "order": null,
            "overflow": null,
            "overflow_x": null,
            "overflow_y": null,
            "padding": null,
            "right": null,
            "top": null,
            "visibility": null,
            "width": null
          }
        },
        "b67dd1a3622c4f5dabb780e07a152e40": {
          "model_module": "@jupyter-widgets/controls",
          "model_name": "DescriptionStyleModel",
          "model_module_version": "1.5.0",
          "state": {
            "_model_module": "@jupyter-widgets/controls",
            "_model_module_version": "1.5.0",
            "_model_name": "DescriptionStyleModel",
            "_view_count": null,
            "_view_module": "@jupyter-widgets/base",
            "_view_module_version": "1.2.0",
            "_view_name": "StyleView",
            "description_width": ""
          }
        },
        "fd991bbbf7fc4dcb98dc2906597207db": {
          "model_module": "@jupyter-widgets/controls",
          "model_name": "HBoxModel",
          "model_module_version": "1.5.0",
          "state": {
            "_dom_classes": [],
            "_model_module": "@jupyter-widgets/controls",
            "_model_module_version": "1.5.0",
            "_model_name": "HBoxModel",
            "_view_count": null,
            "_view_module": "@jupyter-widgets/controls",
            "_view_module_version": "1.5.0",
            "_view_name": "HBoxView",
            "box_style": "",
            "children": [
              "IPY_MODEL_74a2145e42b744d890770c49403f4e08",
              "IPY_MODEL_a651b814d3a04bfe8cc0c389512585ff",
              "IPY_MODEL_28c4493e865c45c3997b7e4fd5bd46cd"
            ],
            "layout": "IPY_MODEL_f26c052806c94113bc91af6bd7d90174"
          }
        },
        "74a2145e42b744d890770c49403f4e08": {
          "model_module": "@jupyter-widgets/controls",
          "model_name": "HTMLModel",
          "model_module_version": "1.5.0",
          "state": {
            "_dom_classes": [],
            "_model_module": "@jupyter-widgets/controls",
            "_model_module_version": "1.5.0",
            "_model_name": "HTMLModel",
            "_view_count": null,
            "_view_module": "@jupyter-widgets/controls",
            "_view_module_version": "1.5.0",
            "_view_name": "HTMLView",
            "description": "",
            "description_tooltip": null,
            "layout": "IPY_MODEL_4a0c8e90fb6640ccbb6530d47f49e011",
            "placeholder": "​",
            "style": "IPY_MODEL_0654033d383344ee8ef473cb740c648f",
            "value": "Downloading (…)olve/main/merges.txt: 100%"
          }
        },
        "a651b814d3a04bfe8cc0c389512585ff": {
          "model_module": "@jupyter-widgets/controls",
          "model_name": "FloatProgressModel",
          "model_module_version": "1.5.0",
          "state": {
            "_dom_classes": [],
            "_model_module": "@jupyter-widgets/controls",
            "_model_module_version": "1.5.0",
            "_model_name": "FloatProgressModel",
            "_view_count": null,
            "_view_module": "@jupyter-widgets/controls",
            "_view_module_version": "1.5.0",
            "_view_name": "ProgressView",
            "bar_style": "success",
            "description": "",
            "description_tooltip": null,
            "layout": "IPY_MODEL_3eb7201671e94ff4b86fc55ddf4296e1",
            "max": 456318,
            "min": 0,
            "orientation": "horizontal",
            "style": "IPY_MODEL_9efcecf4819a4e40a6d783ad46f27ee8",
            "value": 456318
          }
        },
        "28c4493e865c45c3997b7e4fd5bd46cd": {
          "model_module": "@jupyter-widgets/controls",
          "model_name": "HTMLModel",
          "model_module_version": "1.5.0",
          "state": {
            "_dom_classes": [],
            "_model_module": "@jupyter-widgets/controls",
            "_model_module_version": "1.5.0",
            "_model_name": "HTMLModel",
            "_view_count": null,
            "_view_module": "@jupyter-widgets/controls",
            "_view_module_version": "1.5.0",
            "_view_name": "HTMLView",
            "description": "",
            "description_tooltip": null,
            "layout": "IPY_MODEL_d9ce7081faef4165a39cfe406a90f382",
            "placeholder": "​",
            "style": "IPY_MODEL_a9eccb6b417147a2bd17db9f8999372e",
            "value": " 456k/456k [00:00&lt;00:00, 9.06MB/s]"
          }
        },
        "f26c052806c94113bc91af6bd7d90174": {
          "model_module": "@jupyter-widgets/base",
          "model_name": "LayoutModel",
          "model_module_version": "1.2.0",
          "state": {
            "_model_module": "@jupyter-widgets/base",
            "_model_module_version": "1.2.0",
            "_model_name": "LayoutModel",
            "_view_count": null,
            "_view_module": "@jupyter-widgets/base",
            "_view_module_version": "1.2.0",
            "_view_name": "LayoutView",
            "align_content": null,
            "align_items": null,
            "align_self": null,
            "border": null,
            "bottom": null,
            "display": null,
            "flex": null,
            "flex_flow": null,
            "grid_area": null,
            "grid_auto_columns": null,
            "grid_auto_flow": null,
            "grid_auto_rows": null,
            "grid_column": null,
            "grid_gap": null,
            "grid_row": null,
            "grid_template_areas": null,
            "grid_template_columns": null,
            "grid_template_rows": null,
            "height": null,
            "justify_content": null,
            "justify_items": null,
            "left": null,
            "margin": null,
            "max_height": null,
            "max_width": null,
            "min_height": null,
            "min_width": null,
            "object_fit": null,
            "object_position": null,
            "order": null,
            "overflow": null,
            "overflow_x": null,
            "overflow_y": null,
            "padding": null,
            "right": null,
            "top": null,
            "visibility": null,
            "width": null
          }
        },
        "4a0c8e90fb6640ccbb6530d47f49e011": {
          "model_module": "@jupyter-widgets/base",
          "model_name": "LayoutModel",
          "model_module_version": "1.2.0",
          "state": {
            "_model_module": "@jupyter-widgets/base",
            "_model_module_version": "1.2.0",
            "_model_name": "LayoutModel",
            "_view_count": null,
            "_view_module": "@jupyter-widgets/base",
            "_view_module_version": "1.2.0",
            "_view_name": "LayoutView",
            "align_content": null,
            "align_items": null,
            "align_self": null,
            "border": null,
            "bottom": null,
            "display": null,
            "flex": null,
            "flex_flow": null,
            "grid_area": null,
            "grid_auto_columns": null,
            "grid_auto_flow": null,
            "grid_auto_rows": null,
            "grid_column": null,
            "grid_gap": null,
            "grid_row": null,
            "grid_template_areas": null,
            "grid_template_columns": null,
            "grid_template_rows": null,
            "height": null,
            "justify_content": null,
            "justify_items": null,
            "left": null,
            "margin": null,
            "max_height": null,
            "max_width": null,
            "min_height": null,
            "min_width": null,
            "object_fit": null,
            "object_position": null,
            "order": null,
            "overflow": null,
            "overflow_x": null,
            "overflow_y": null,
            "padding": null,
            "right": null,
            "top": null,
            "visibility": null,
            "width": null
          }
        },
        "0654033d383344ee8ef473cb740c648f": {
          "model_module": "@jupyter-widgets/controls",
          "model_name": "DescriptionStyleModel",
          "model_module_version": "1.5.0",
          "state": {
            "_model_module": "@jupyter-widgets/controls",
            "_model_module_version": "1.5.0",
            "_model_name": "DescriptionStyleModel",
            "_view_count": null,
            "_view_module": "@jupyter-widgets/base",
            "_view_module_version": "1.2.0",
            "_view_name": "StyleView",
            "description_width": ""
          }
        },
        "3eb7201671e94ff4b86fc55ddf4296e1": {
          "model_module": "@jupyter-widgets/base",
          "model_name": "LayoutModel",
          "model_module_version": "1.2.0",
          "state": {
            "_model_module": "@jupyter-widgets/base",
            "_model_module_version": "1.2.0",
            "_model_name": "LayoutModel",
            "_view_count": null,
            "_view_module": "@jupyter-widgets/base",
            "_view_module_version": "1.2.0",
            "_view_name": "LayoutView",
            "align_content": null,
            "align_items": null,
            "align_self": null,
            "border": null,
            "bottom": null,
            "display": null,
            "flex": null,
            "flex_flow": null,
            "grid_area": null,
            "grid_auto_columns": null,
            "grid_auto_flow": null,
            "grid_auto_rows": null,
            "grid_column": null,
            "grid_gap": null,
            "grid_row": null,
            "grid_template_areas": null,
            "grid_template_columns": null,
            "grid_template_rows": null,
            "height": null,
            "justify_content": null,
            "justify_items": null,
            "left": null,
            "margin": null,
            "max_height": null,
            "max_width": null,
            "min_height": null,
            "min_width": null,
            "object_fit": null,
            "object_position": null,
            "order": null,
            "overflow": null,
            "overflow_x": null,
            "overflow_y": null,
            "padding": null,
            "right": null,
            "top": null,
            "visibility": null,
            "width": null
          }
        },
        "9efcecf4819a4e40a6d783ad46f27ee8": {
          "model_module": "@jupyter-widgets/controls",
          "model_name": "ProgressStyleModel",
          "model_module_version": "1.5.0",
          "state": {
            "_model_module": "@jupyter-widgets/controls",
            "_model_module_version": "1.5.0",
            "_model_name": "ProgressStyleModel",
            "_view_count": null,
            "_view_module": "@jupyter-widgets/base",
            "_view_module_version": "1.2.0",
            "_view_name": "StyleView",
            "bar_color": null,
            "description_width": ""
          }
        },
        "d9ce7081faef4165a39cfe406a90f382": {
          "model_module": "@jupyter-widgets/base",
          "model_name": "LayoutModel",
          "model_module_version": "1.2.0",
          "state": {
            "_model_module": "@jupyter-widgets/base",
            "_model_module_version": "1.2.0",
            "_model_name": "LayoutModel",
            "_view_count": null,
            "_view_module": "@jupyter-widgets/base",
            "_view_module_version": "1.2.0",
            "_view_name": "LayoutView",
            "align_content": null,
            "align_items": null,
            "align_self": null,
            "border": null,
            "bottom": null,
            "display": null,
            "flex": null,
            "flex_flow": null,
            "grid_area": null,
            "grid_auto_columns": null,
            "grid_auto_flow": null,
            "grid_auto_rows": null,
            "grid_column": null,
            "grid_gap": null,
            "grid_row": null,
            "grid_template_areas": null,
            "grid_template_columns": null,
            "grid_template_rows": null,
            "height": null,
            "justify_content": null,
            "justify_items": null,
            "left": null,
            "margin": null,
            "max_height": null,
            "max_width": null,
            "min_height": null,
            "min_width": null,
            "object_fit": null,
            "object_position": null,
            "order": null,
            "overflow": null,
            "overflow_x": null,
            "overflow_y": null,
            "padding": null,
            "right": null,
            "top": null,
            "visibility": null,
            "width": null
          }
        },
        "a9eccb6b417147a2bd17db9f8999372e": {
          "model_module": "@jupyter-widgets/controls",
          "model_name": "DescriptionStyleModel",
          "model_module_version": "1.5.0",
          "state": {
            "_model_module": "@jupyter-widgets/controls",
            "_model_module_version": "1.5.0",
            "_model_name": "DescriptionStyleModel",
            "_view_count": null,
            "_view_module": "@jupyter-widgets/base",
            "_view_module_version": "1.2.0",
            "_view_name": "StyleView",
            "description_width": ""
          }
        },
        "1ba4daa59198430095f3acc8c3ecd5aa": {
          "model_module": "@jupyter-widgets/controls",
          "model_name": "HBoxModel",
          "model_module_version": "1.5.0",
          "state": {
            "_dom_classes": [],
            "_model_module": "@jupyter-widgets/controls",
            "_model_module_version": "1.5.0",
            "_model_name": "HBoxModel",
            "_view_count": null,
            "_view_module": "@jupyter-widgets/controls",
            "_view_module_version": "1.5.0",
            "_view_name": "HBoxView",
            "box_style": "",
            "children": [
              "IPY_MODEL_568e38f4ce034f79a3bcf9185680c16f",
              "IPY_MODEL_2de32c9db87a4a6c830cd8724c0c5133",
              "IPY_MODEL_2e1683ded83849c1bc728e076c8c744e"
            ],
            "layout": "IPY_MODEL_a538cfa9fe974785abf356eeb0c870d5"
          }
        },
        "568e38f4ce034f79a3bcf9185680c16f": {
          "model_module": "@jupyter-widgets/controls",
          "model_name": "HTMLModel",
          "model_module_version": "1.5.0",
          "state": {
            "_dom_classes": [],
            "_model_module": "@jupyter-widgets/controls",
            "_model_module_version": "1.5.0",
            "_model_name": "HTMLModel",
            "_view_count": null,
            "_view_module": "@jupyter-widgets/controls",
            "_view_module_version": "1.5.0",
            "_view_name": "HTMLView",
            "description": "",
            "description_tooltip": null,
            "layout": "IPY_MODEL_4760463d06f04ef78f8c6ec7af3634de",
            "placeholder": "​",
            "style": "IPY_MODEL_62dce63ca15b4dbf8ef22b29c5e3e43a",
            "value": "100%"
          }
        },
        "2de32c9db87a4a6c830cd8724c0c5133": {
          "model_module": "@jupyter-widgets/controls",
          "model_name": "FloatProgressModel",
          "model_module_version": "1.5.0",
          "state": {
            "_dom_classes": [],
            "_model_module": "@jupyter-widgets/controls",
            "_model_module_version": "1.5.0",
            "_model_name": "FloatProgressModel",
            "_view_count": null,
            "_view_module": "@jupyter-widgets/controls",
            "_view_module_version": "1.5.0",
            "_view_name": "ProgressView",
            "bar_style": "success",
            "description": "",
            "description_tooltip": null,
            "layout": "IPY_MODEL_3266292eae7f46dd804f30bc96eced45",
            "max": 3,
            "min": 0,
            "orientation": "horizontal",
            "style": "IPY_MODEL_c6e07dbec66b4233b9f8dff7cd7e318e",
            "value": 3
          }
        },
        "2e1683ded83849c1bc728e076c8c744e": {
          "model_module": "@jupyter-widgets/controls",
          "model_name": "HTMLModel",
          "model_module_version": "1.5.0",
          "state": {
            "_dom_classes": [],
            "_model_module": "@jupyter-widgets/controls",
            "_model_module_version": "1.5.0",
            "_model_name": "HTMLModel",
            "_view_count": null,
            "_view_module": "@jupyter-widgets/controls",
            "_view_module_version": "1.5.0",
            "_view_name": "HTMLView",
            "description": "",
            "description_tooltip": null,
            "layout": "IPY_MODEL_4d8334c0c8844e72997de0d79cbbf400",
            "placeholder": "​",
            "style": "IPY_MODEL_8a6e3685e3364bc0b9ddc3f88bbac0a7",
            "value": " 3/3 [00:00&lt;00:00, 32.01it/s]"
          }
        },
        "a538cfa9fe974785abf356eeb0c870d5": {
          "model_module": "@jupyter-widgets/base",
          "model_name": "LayoutModel",
          "model_module_version": "1.2.0",
          "state": {
            "_model_module": "@jupyter-widgets/base",
            "_model_module_version": "1.2.0",
            "_model_name": "LayoutModel",
            "_view_count": null,
            "_view_module": "@jupyter-widgets/base",
            "_view_module_version": "1.2.0",
            "_view_name": "LayoutView",
            "align_content": null,
            "align_items": null,
            "align_self": null,
            "border": null,
            "bottom": null,
            "display": null,
            "flex": null,
            "flex_flow": null,
            "grid_area": null,
            "grid_auto_columns": null,
            "grid_auto_flow": null,
            "grid_auto_rows": null,
            "grid_column": null,
            "grid_gap": null,
            "grid_row": null,
            "grid_template_areas": null,
            "grid_template_columns": null,
            "grid_template_rows": null,
            "height": null,
            "justify_content": null,
            "justify_items": null,
            "left": null,
            "margin": null,
            "max_height": null,
            "max_width": null,
            "min_height": null,
            "min_width": null,
            "object_fit": null,
            "object_position": null,
            "order": null,
            "overflow": null,
            "overflow_x": null,
            "overflow_y": null,
            "padding": null,
            "right": null,
            "top": null,
            "visibility": null,
            "width": null
          }
        },
        "4760463d06f04ef78f8c6ec7af3634de": {
          "model_module": "@jupyter-widgets/base",
          "model_name": "LayoutModel",
          "model_module_version": "1.2.0",
          "state": {
            "_model_module": "@jupyter-widgets/base",
            "_model_module_version": "1.2.0",
            "_model_name": "LayoutModel",
            "_view_count": null,
            "_view_module": "@jupyter-widgets/base",
            "_view_module_version": "1.2.0",
            "_view_name": "LayoutView",
            "align_content": null,
            "align_items": null,
            "align_self": null,
            "border": null,
            "bottom": null,
            "display": null,
            "flex": null,
            "flex_flow": null,
            "grid_area": null,
            "grid_auto_columns": null,
            "grid_auto_flow": null,
            "grid_auto_rows": null,
            "grid_column": null,
            "grid_gap": null,
            "grid_row": null,
            "grid_template_areas": null,
            "grid_template_columns": null,
            "grid_template_rows": null,
            "height": null,
            "justify_content": null,
            "justify_items": null,
            "left": null,
            "margin": null,
            "max_height": null,
            "max_width": null,
            "min_height": null,
            "min_width": null,
            "object_fit": null,
            "object_position": null,
            "order": null,
            "overflow": null,
            "overflow_x": null,
            "overflow_y": null,
            "padding": null,
            "right": null,
            "top": null,
            "visibility": null,
            "width": null
          }
        },
        "62dce63ca15b4dbf8ef22b29c5e3e43a": {
          "model_module": "@jupyter-widgets/controls",
          "model_name": "DescriptionStyleModel",
          "model_module_version": "1.5.0",
          "state": {
            "_model_module": "@jupyter-widgets/controls",
            "_model_module_version": "1.5.0",
            "_model_name": "DescriptionStyleModel",
            "_view_count": null,
            "_view_module": "@jupyter-widgets/base",
            "_view_module_version": "1.2.0",
            "_view_name": "StyleView",
            "description_width": ""
          }
        },
        "3266292eae7f46dd804f30bc96eced45": {
          "model_module": "@jupyter-widgets/base",
          "model_name": "LayoutModel",
          "model_module_version": "1.2.0",
          "state": {
            "_model_module": "@jupyter-widgets/base",
            "_model_module_version": "1.2.0",
            "_model_name": "LayoutModel",
            "_view_count": null,
            "_view_module": "@jupyter-widgets/base",
            "_view_module_version": "1.2.0",
            "_view_name": "LayoutView",
            "align_content": null,
            "align_items": null,
            "align_self": null,
            "border": null,
            "bottom": null,
            "display": null,
            "flex": null,
            "flex_flow": null,
            "grid_area": null,
            "grid_auto_columns": null,
            "grid_auto_flow": null,
            "grid_auto_rows": null,
            "grid_column": null,
            "grid_gap": null,
            "grid_row": null,
            "grid_template_areas": null,
            "grid_template_columns": null,
            "grid_template_rows": null,
            "height": null,
            "justify_content": null,
            "justify_items": null,
            "left": null,
            "margin": null,
            "max_height": null,
            "max_width": null,
            "min_height": null,
            "min_width": null,
            "object_fit": null,
            "object_position": null,
            "order": null,
            "overflow": null,
            "overflow_x": null,
            "overflow_y": null,
            "padding": null,
            "right": null,
            "top": null,
            "visibility": null,
            "width": null
          }
        },
        "c6e07dbec66b4233b9f8dff7cd7e318e": {
          "model_module": "@jupyter-widgets/controls",
          "model_name": "ProgressStyleModel",
          "model_module_version": "1.5.0",
          "state": {
            "_model_module": "@jupyter-widgets/controls",
            "_model_module_version": "1.5.0",
            "_model_name": "ProgressStyleModel",
            "_view_count": null,
            "_view_module": "@jupyter-widgets/base",
            "_view_module_version": "1.2.0",
            "_view_name": "StyleView",
            "bar_color": null,
            "description_width": ""
          }
        },
        "4d8334c0c8844e72997de0d79cbbf400": {
          "model_module": "@jupyter-widgets/base",
          "model_name": "LayoutModel",
          "model_module_version": "1.2.0",
          "state": {
            "_model_module": "@jupyter-widgets/base",
            "_model_module_version": "1.2.0",
            "_model_name": "LayoutModel",
            "_view_count": null,
            "_view_module": "@jupyter-widgets/base",
            "_view_module_version": "1.2.0",
            "_view_name": "LayoutView",
            "align_content": null,
            "align_items": null,
            "align_self": null,
            "border": null,
            "bottom": null,
            "display": null,
            "flex": null,
            "flex_flow": null,
            "grid_area": null,
            "grid_auto_columns": null,
            "grid_auto_flow": null,
            "grid_auto_rows": null,
            "grid_column": null,
            "grid_gap": null,
            "grid_row": null,
            "grid_template_areas": null,
            "grid_template_columns": null,
            "grid_template_rows": null,
            "height": null,
            "justify_content": null,
            "justify_items": null,
            "left": null,
            "margin": null,
            "max_height": null,
            "max_width": null,
            "min_height": null,
            "min_width": null,
            "object_fit": null,
            "object_position": null,
            "order": null,
            "overflow": null,
            "overflow_x": null,
            "overflow_y": null,
            "padding": null,
            "right": null,
            "top": null,
            "visibility": null,
            "width": null
          }
        },
        "8a6e3685e3364bc0b9ddc3f88bbac0a7": {
          "model_module": "@jupyter-widgets/controls",
          "model_name": "DescriptionStyleModel",
          "model_module_version": "1.5.0",
          "state": {
            "_model_module": "@jupyter-widgets/controls",
            "_model_module_version": "1.5.0",
            "_model_name": "DescriptionStyleModel",
            "_view_count": null,
            "_view_module": "@jupyter-widgets/base",
            "_view_module_version": "1.2.0",
            "_view_name": "StyleView",
            "description_width": ""
          }
        },
        "65c6c12f92744b8082d88d0a4e81b769": {
          "model_module": "@jupyter-widgets/controls",
          "model_name": "HBoxModel",
          "model_module_version": "1.5.0",
          "state": {
            "_dom_classes": [],
            "_model_module": "@jupyter-widgets/controls",
            "_model_module_version": "1.5.0",
            "_model_name": "HBoxModel",
            "_view_count": null,
            "_view_module": "@jupyter-widgets/controls",
            "_view_module_version": "1.5.0",
            "_view_name": "HBoxView",
            "box_style": "",
            "children": [
              "IPY_MODEL_dca8774d8083439bb002ea4e7b095afd",
              "IPY_MODEL_d3abad08e0f04047aa70d43e7550a880",
              "IPY_MODEL_781a355a506847a4b249f2f23f1c2e20"
            ],
            "layout": "IPY_MODEL_022b86bc06b54f759123656fb064c8e2"
          }
        },
        "dca8774d8083439bb002ea4e7b095afd": {
          "model_module": "@jupyter-widgets/controls",
          "model_name": "HTMLModel",
          "model_module_version": "1.5.0",
          "state": {
            "_dom_classes": [],
            "_model_module": "@jupyter-widgets/controls",
            "_model_module_version": "1.5.0",
            "_model_name": "HTMLModel",
            "_view_count": null,
            "_view_module": "@jupyter-widgets/controls",
            "_view_module_version": "1.5.0",
            "_view_name": "HTMLView",
            "description": "",
            "description_tooltip": null,
            "layout": "IPY_MODEL_a07314524896462ab6f958c9b261a434",
            "placeholder": "​",
            "style": "IPY_MODEL_217e2dac4b5643a5b094b1c7f981295c",
            "value": "Map: 100%"
          }
        },
        "d3abad08e0f04047aa70d43e7550a880": {
          "model_module": "@jupyter-widgets/controls",
          "model_name": "FloatProgressModel",
          "model_module_version": "1.5.0",
          "state": {
            "_dom_classes": [],
            "_model_module": "@jupyter-widgets/controls",
            "_model_module_version": "1.5.0",
            "_model_name": "FloatProgressModel",
            "_view_count": null,
            "_view_module": "@jupyter-widgets/controls",
            "_view_module_version": "1.5.0",
            "_view_name": "ProgressView",
            "bar_style": "",
            "description": "",
            "description_tooltip": null,
            "layout": "IPY_MODEL_b9bfd926653a4ff9bbcf0c4f903849f5",
            "max": 5749,
            "min": 0,
            "orientation": "horizontal",
            "style": "IPY_MODEL_136d9520603e4efba92f78cf6f2b3e68",
            "value": 5749
          }
        },
        "781a355a506847a4b249f2f23f1c2e20": {
          "model_module": "@jupyter-widgets/controls",
          "model_name": "HTMLModel",
          "model_module_version": "1.5.0",
          "state": {
            "_dom_classes": [],
            "_model_module": "@jupyter-widgets/controls",
            "_model_module_version": "1.5.0",
            "_model_name": "HTMLModel",
            "_view_count": null,
            "_view_module": "@jupyter-widgets/controls",
            "_view_module_version": "1.5.0",
            "_view_name": "HTMLView",
            "description": "",
            "description_tooltip": null,
            "layout": "IPY_MODEL_b987ee2f7e03418dab3ca30dbea2bc6a",
            "placeholder": "​",
            "style": "IPY_MODEL_932ee96e7c134475bdc800538b0d674d",
            "value": " 5749/5749 [00:03&lt;00:00, 1634.04 examples/s]"
          }
        },
        "022b86bc06b54f759123656fb064c8e2": {
          "model_module": "@jupyter-widgets/base",
          "model_name": "LayoutModel",
          "model_module_version": "1.2.0",
          "state": {
            "_model_module": "@jupyter-widgets/base",
            "_model_module_version": "1.2.0",
            "_model_name": "LayoutModel",
            "_view_count": null,
            "_view_module": "@jupyter-widgets/base",
            "_view_module_version": "1.2.0",
            "_view_name": "LayoutView",
            "align_content": null,
            "align_items": null,
            "align_self": null,
            "border": null,
            "bottom": null,
            "display": null,
            "flex": null,
            "flex_flow": null,
            "grid_area": null,
            "grid_auto_columns": null,
            "grid_auto_flow": null,
            "grid_auto_rows": null,
            "grid_column": null,
            "grid_gap": null,
            "grid_row": null,
            "grid_template_areas": null,
            "grid_template_columns": null,
            "grid_template_rows": null,
            "height": null,
            "justify_content": null,
            "justify_items": null,
            "left": null,
            "margin": null,
            "max_height": null,
            "max_width": null,
            "min_height": null,
            "min_width": null,
            "object_fit": null,
            "object_position": null,
            "order": null,
            "overflow": null,
            "overflow_x": null,
            "overflow_y": null,
            "padding": null,
            "right": null,
            "top": null,
            "visibility": "hidden",
            "width": null
          }
        },
        "a07314524896462ab6f958c9b261a434": {
          "model_module": "@jupyter-widgets/base",
          "model_name": "LayoutModel",
          "model_module_version": "1.2.0",
          "state": {
            "_model_module": "@jupyter-widgets/base",
            "_model_module_version": "1.2.0",
            "_model_name": "LayoutModel",
            "_view_count": null,
            "_view_module": "@jupyter-widgets/base",
            "_view_module_version": "1.2.0",
            "_view_name": "LayoutView",
            "align_content": null,
            "align_items": null,
            "align_self": null,
            "border": null,
            "bottom": null,
            "display": null,
            "flex": null,
            "flex_flow": null,
            "grid_area": null,
            "grid_auto_columns": null,
            "grid_auto_flow": null,
            "grid_auto_rows": null,
            "grid_column": null,
            "grid_gap": null,
            "grid_row": null,
            "grid_template_areas": null,
            "grid_template_columns": null,
            "grid_template_rows": null,
            "height": null,
            "justify_content": null,
            "justify_items": null,
            "left": null,
            "margin": null,
            "max_height": null,
            "max_width": null,
            "min_height": null,
            "min_width": null,
            "object_fit": null,
            "object_position": null,
            "order": null,
            "overflow": null,
            "overflow_x": null,
            "overflow_y": null,
            "padding": null,
            "right": null,
            "top": null,
            "visibility": null,
            "width": null
          }
        },
        "217e2dac4b5643a5b094b1c7f981295c": {
          "model_module": "@jupyter-widgets/controls",
          "model_name": "DescriptionStyleModel",
          "model_module_version": "1.5.0",
          "state": {
            "_model_module": "@jupyter-widgets/controls",
            "_model_module_version": "1.5.0",
            "_model_name": "DescriptionStyleModel",
            "_view_count": null,
            "_view_module": "@jupyter-widgets/base",
            "_view_module_version": "1.2.0",
            "_view_name": "StyleView",
            "description_width": ""
          }
        },
        "b9bfd926653a4ff9bbcf0c4f903849f5": {
          "model_module": "@jupyter-widgets/base",
          "model_name": "LayoutModel",
          "model_module_version": "1.2.0",
          "state": {
            "_model_module": "@jupyter-widgets/base",
            "_model_module_version": "1.2.0",
            "_model_name": "LayoutModel",
            "_view_count": null,
            "_view_module": "@jupyter-widgets/base",
            "_view_module_version": "1.2.0",
            "_view_name": "LayoutView",
            "align_content": null,
            "align_items": null,
            "align_self": null,
            "border": null,
            "bottom": null,
            "display": null,
            "flex": null,
            "flex_flow": null,
            "grid_area": null,
            "grid_auto_columns": null,
            "grid_auto_flow": null,
            "grid_auto_rows": null,
            "grid_column": null,
            "grid_gap": null,
            "grid_row": null,
            "grid_template_areas": null,
            "grid_template_columns": null,
            "grid_template_rows": null,
            "height": null,
            "justify_content": null,
            "justify_items": null,
            "left": null,
            "margin": null,
            "max_height": null,
            "max_width": null,
            "min_height": null,
            "min_width": null,
            "object_fit": null,
            "object_position": null,
            "order": null,
            "overflow": null,
            "overflow_x": null,
            "overflow_y": null,
            "padding": null,
            "right": null,
            "top": null,
            "visibility": null,
            "width": null
          }
        },
        "136d9520603e4efba92f78cf6f2b3e68": {
          "model_module": "@jupyter-widgets/controls",
          "model_name": "ProgressStyleModel",
          "model_module_version": "1.5.0",
          "state": {
            "_model_module": "@jupyter-widgets/controls",
            "_model_module_version": "1.5.0",
            "_model_name": "ProgressStyleModel",
            "_view_count": null,
            "_view_module": "@jupyter-widgets/base",
            "_view_module_version": "1.2.0",
            "_view_name": "StyleView",
            "bar_color": null,
            "description_width": ""
          }
        },
        "b987ee2f7e03418dab3ca30dbea2bc6a": {
          "model_module": "@jupyter-widgets/base",
          "model_name": "LayoutModel",
          "model_module_version": "1.2.0",
          "state": {
            "_model_module": "@jupyter-widgets/base",
            "_model_module_version": "1.2.0",
            "_model_name": "LayoutModel",
            "_view_count": null,
            "_view_module": "@jupyter-widgets/base",
            "_view_module_version": "1.2.0",
            "_view_name": "LayoutView",
            "align_content": null,
            "align_items": null,
            "align_self": null,
            "border": null,
            "bottom": null,
            "display": null,
            "flex": null,
            "flex_flow": null,
            "grid_area": null,
            "grid_auto_columns": null,
            "grid_auto_flow": null,
            "grid_auto_rows": null,
            "grid_column": null,
            "grid_gap": null,
            "grid_row": null,
            "grid_template_areas": null,
            "grid_template_columns": null,
            "grid_template_rows": null,
            "height": null,
            "justify_content": null,
            "justify_items": null,
            "left": null,
            "margin": null,
            "max_height": null,
            "max_width": null,
            "min_height": null,
            "min_width": null,
            "object_fit": null,
            "object_position": null,
            "order": null,
            "overflow": null,
            "overflow_x": null,
            "overflow_y": null,
            "padding": null,
            "right": null,
            "top": null,
            "visibility": null,
            "width": null
          }
        },
        "932ee96e7c134475bdc800538b0d674d": {
          "model_module": "@jupyter-widgets/controls",
          "model_name": "DescriptionStyleModel",
          "model_module_version": "1.5.0",
          "state": {
            "_model_module": "@jupyter-widgets/controls",
            "_model_module_version": "1.5.0",
            "_model_name": "DescriptionStyleModel",
            "_view_count": null,
            "_view_module": "@jupyter-widgets/base",
            "_view_module_version": "1.2.0",
            "_view_name": "StyleView",
            "description_width": ""
          }
        },
        "a11fa44ebfaf488580ff25a6cb8d7c57": {
          "model_module": "@jupyter-widgets/controls",
          "model_name": "HBoxModel",
          "model_module_version": "1.5.0",
          "state": {
            "_dom_classes": [],
            "_model_module": "@jupyter-widgets/controls",
            "_model_module_version": "1.5.0",
            "_model_name": "HBoxModel",
            "_view_count": null,
            "_view_module": "@jupyter-widgets/controls",
            "_view_module_version": "1.5.0",
            "_view_name": "HBoxView",
            "box_style": "",
            "children": [
              "IPY_MODEL_a169ae26ff5140308e9026c104caa5f7",
              "IPY_MODEL_bf221370592e40f6845bb97bf8754033",
              "IPY_MODEL_6be55b6e4569405aba7d0fa6c99c4810"
            ],
            "layout": "IPY_MODEL_299fc7cb378e4967aa013a8d3888b728"
          }
        },
        "a169ae26ff5140308e9026c104caa5f7": {
          "model_module": "@jupyter-widgets/controls",
          "model_name": "HTMLModel",
          "model_module_version": "1.5.0",
          "state": {
            "_dom_classes": [],
            "_model_module": "@jupyter-widgets/controls",
            "_model_module_version": "1.5.0",
            "_model_name": "HTMLModel",
            "_view_count": null,
            "_view_module": "@jupyter-widgets/controls",
            "_view_module_version": "1.5.0",
            "_view_name": "HTMLView",
            "description": "",
            "description_tooltip": null,
            "layout": "IPY_MODEL_88c9f087ad0e4b99a0e33ed3610b7f72",
            "placeholder": "​",
            "style": "IPY_MODEL_eabdd7f1f60e4e529a82aa1650ffc2ef",
            "value": "Map: 100%"
          }
        },
        "bf221370592e40f6845bb97bf8754033": {
          "model_module": "@jupyter-widgets/controls",
          "model_name": "FloatProgressModel",
          "model_module_version": "1.5.0",
          "state": {
            "_dom_classes": [],
            "_model_module": "@jupyter-widgets/controls",
            "_model_module_version": "1.5.0",
            "_model_name": "FloatProgressModel",
            "_view_count": null,
            "_view_module": "@jupyter-widgets/controls",
            "_view_module_version": "1.5.0",
            "_view_name": "ProgressView",
            "bar_style": "",
            "description": "",
            "description_tooltip": null,
            "layout": "IPY_MODEL_76f1597cfced46c3aa0944ba5486006e",
            "max": 1500,
            "min": 0,
            "orientation": "horizontal",
            "style": "IPY_MODEL_87890120352f44ec9b17d7058f95ab82",
            "value": 1500
          }
        },
        "6be55b6e4569405aba7d0fa6c99c4810": {
          "model_module": "@jupyter-widgets/controls",
          "model_name": "HTMLModel",
          "model_module_version": "1.5.0",
          "state": {
            "_dom_classes": [],
            "_model_module": "@jupyter-widgets/controls",
            "_model_module_version": "1.5.0",
            "_model_name": "HTMLModel",
            "_view_count": null,
            "_view_module": "@jupyter-widgets/controls",
            "_view_module_version": "1.5.0",
            "_view_name": "HTMLView",
            "description": "",
            "description_tooltip": null,
            "layout": "IPY_MODEL_514392ccdc7d4fdfb0064760372e3f2b",
            "placeholder": "​",
            "style": "IPY_MODEL_8a9744980c9941428fb2975fd229b385",
            "value": " 1500/1500 [00:00&lt;00:00, 2516.69 examples/s]"
          }
        },
        "299fc7cb378e4967aa013a8d3888b728": {
          "model_module": "@jupyter-widgets/base",
          "model_name": "LayoutModel",
          "model_module_version": "1.2.0",
          "state": {
            "_model_module": "@jupyter-widgets/base",
            "_model_module_version": "1.2.0",
            "_model_name": "LayoutModel",
            "_view_count": null,
            "_view_module": "@jupyter-widgets/base",
            "_view_module_version": "1.2.0",
            "_view_name": "LayoutView",
            "align_content": null,
            "align_items": null,
            "align_self": null,
            "border": null,
            "bottom": null,
            "display": null,
            "flex": null,
            "flex_flow": null,
            "grid_area": null,
            "grid_auto_columns": null,
            "grid_auto_flow": null,
            "grid_auto_rows": null,
            "grid_column": null,
            "grid_gap": null,
            "grid_row": null,
            "grid_template_areas": null,
            "grid_template_columns": null,
            "grid_template_rows": null,
            "height": null,
            "justify_content": null,
            "justify_items": null,
            "left": null,
            "margin": null,
            "max_height": null,
            "max_width": null,
            "min_height": null,
            "min_width": null,
            "object_fit": null,
            "object_position": null,
            "order": null,
            "overflow": null,
            "overflow_x": null,
            "overflow_y": null,
            "padding": null,
            "right": null,
            "top": null,
            "visibility": "hidden",
            "width": null
          }
        },
        "88c9f087ad0e4b99a0e33ed3610b7f72": {
          "model_module": "@jupyter-widgets/base",
          "model_name": "LayoutModel",
          "model_module_version": "1.2.0",
          "state": {
            "_model_module": "@jupyter-widgets/base",
            "_model_module_version": "1.2.0",
            "_model_name": "LayoutModel",
            "_view_count": null,
            "_view_module": "@jupyter-widgets/base",
            "_view_module_version": "1.2.0",
            "_view_name": "LayoutView",
            "align_content": null,
            "align_items": null,
            "align_self": null,
            "border": null,
            "bottom": null,
            "display": null,
            "flex": null,
            "flex_flow": null,
            "grid_area": null,
            "grid_auto_columns": null,
            "grid_auto_flow": null,
            "grid_auto_rows": null,
            "grid_column": null,
            "grid_gap": null,
            "grid_row": null,
            "grid_template_areas": null,
            "grid_template_columns": null,
            "grid_template_rows": null,
            "height": null,
            "justify_content": null,
            "justify_items": null,
            "left": null,
            "margin": null,
            "max_height": null,
            "max_width": null,
            "min_height": null,
            "min_width": null,
            "object_fit": null,
            "object_position": null,
            "order": null,
            "overflow": null,
            "overflow_x": null,
            "overflow_y": null,
            "padding": null,
            "right": null,
            "top": null,
            "visibility": null,
            "width": null
          }
        },
        "eabdd7f1f60e4e529a82aa1650ffc2ef": {
          "model_module": "@jupyter-widgets/controls",
          "model_name": "DescriptionStyleModel",
          "model_module_version": "1.5.0",
          "state": {
            "_model_module": "@jupyter-widgets/controls",
            "_model_module_version": "1.5.0",
            "_model_name": "DescriptionStyleModel",
            "_view_count": null,
            "_view_module": "@jupyter-widgets/base",
            "_view_module_version": "1.2.0",
            "_view_name": "StyleView",
            "description_width": ""
          }
        },
        "76f1597cfced46c3aa0944ba5486006e": {
          "model_module": "@jupyter-widgets/base",
          "model_name": "LayoutModel",
          "model_module_version": "1.2.0",
          "state": {
            "_model_module": "@jupyter-widgets/base",
            "_model_module_version": "1.2.0",
            "_model_name": "LayoutModel",
            "_view_count": null,
            "_view_module": "@jupyter-widgets/base",
            "_view_module_version": "1.2.0",
            "_view_name": "LayoutView",
            "align_content": null,
            "align_items": null,
            "align_self": null,
            "border": null,
            "bottom": null,
            "display": null,
            "flex": null,
            "flex_flow": null,
            "grid_area": null,
            "grid_auto_columns": null,
            "grid_auto_flow": null,
            "grid_auto_rows": null,
            "grid_column": null,
            "grid_gap": null,
            "grid_row": null,
            "grid_template_areas": null,
            "grid_template_columns": null,
            "grid_template_rows": null,
            "height": null,
            "justify_content": null,
            "justify_items": null,
            "left": null,
            "margin": null,
            "max_height": null,
            "max_width": null,
            "min_height": null,
            "min_width": null,
            "object_fit": null,
            "object_position": null,
            "order": null,
            "overflow": null,
            "overflow_x": null,
            "overflow_y": null,
            "padding": null,
            "right": null,
            "top": null,
            "visibility": null,
            "width": null
          }
        },
        "87890120352f44ec9b17d7058f95ab82": {
          "model_module": "@jupyter-widgets/controls",
          "model_name": "ProgressStyleModel",
          "model_module_version": "1.5.0",
          "state": {
            "_model_module": "@jupyter-widgets/controls",
            "_model_module_version": "1.5.0",
            "_model_name": "ProgressStyleModel",
            "_view_count": null,
            "_view_module": "@jupyter-widgets/base",
            "_view_module_version": "1.2.0",
            "_view_name": "StyleView",
            "bar_color": null,
            "description_width": ""
          }
        },
        "514392ccdc7d4fdfb0064760372e3f2b": {
          "model_module": "@jupyter-widgets/base",
          "model_name": "LayoutModel",
          "model_module_version": "1.2.0",
          "state": {
            "_model_module": "@jupyter-widgets/base",
            "_model_module_version": "1.2.0",
            "_model_name": "LayoutModel",
            "_view_count": null,
            "_view_module": "@jupyter-widgets/base",
            "_view_module_version": "1.2.0",
            "_view_name": "LayoutView",
            "align_content": null,
            "align_items": null,
            "align_self": null,
            "border": null,
            "bottom": null,
            "display": null,
            "flex": null,
            "flex_flow": null,
            "grid_area": null,
            "grid_auto_columns": null,
            "grid_auto_flow": null,
            "grid_auto_rows": null,
            "grid_column": null,
            "grid_gap": null,
            "grid_row": null,
            "grid_template_areas": null,
            "grid_template_columns": null,
            "grid_template_rows": null,
            "height": null,
            "justify_content": null,
            "justify_items": null,
            "left": null,
            "margin": null,
            "max_height": null,
            "max_width": null,
            "min_height": null,
            "min_width": null,
            "object_fit": null,
            "object_position": null,
            "order": null,
            "overflow": null,
            "overflow_x": null,
            "overflow_y": null,
            "padding": null,
            "right": null,
            "top": null,
            "visibility": null,
            "width": null
          }
        },
        "8a9744980c9941428fb2975fd229b385": {
          "model_module": "@jupyter-widgets/controls",
          "model_name": "DescriptionStyleModel",
          "model_module_version": "1.5.0",
          "state": {
            "_model_module": "@jupyter-widgets/controls",
            "_model_module_version": "1.5.0",
            "_model_name": "DescriptionStyleModel",
            "_view_count": null,
            "_view_module": "@jupyter-widgets/base",
            "_view_module_version": "1.2.0",
            "_view_name": "StyleView",
            "description_width": ""
          }
        },
        "4ded78d3b6c74d98b37cf531d68503c9": {
          "model_module": "@jupyter-widgets/controls",
          "model_name": "HBoxModel",
          "model_module_version": "1.5.0",
          "state": {
            "_dom_classes": [],
            "_model_module": "@jupyter-widgets/controls",
            "_model_module_version": "1.5.0",
            "_model_name": "HBoxModel",
            "_view_count": null,
            "_view_module": "@jupyter-widgets/controls",
            "_view_module_version": "1.5.0",
            "_view_name": "HBoxView",
            "box_style": "",
            "children": [
              "IPY_MODEL_bc0db88bf8984be5af93c2a1cc128636",
              "IPY_MODEL_5ee0b79424234e5c835c1a02156a492e",
              "IPY_MODEL_9588892f8be440f18334c10c22578f59"
            ],
            "layout": "IPY_MODEL_8a3eb5d24a354ca084a65e1465802695"
          }
        },
        "bc0db88bf8984be5af93c2a1cc128636": {
          "model_module": "@jupyter-widgets/controls",
          "model_name": "HTMLModel",
          "model_module_version": "1.5.0",
          "state": {
            "_dom_classes": [],
            "_model_module": "@jupyter-widgets/controls",
            "_model_module_version": "1.5.0",
            "_model_name": "HTMLModel",
            "_view_count": null,
            "_view_module": "@jupyter-widgets/controls",
            "_view_module_version": "1.5.0",
            "_view_name": "HTMLView",
            "description": "",
            "description_tooltip": null,
            "layout": "IPY_MODEL_83d3bfd72d9146fbb27d3f269b5a9830",
            "placeholder": "​",
            "style": "IPY_MODEL_f891e66b518c43e79c584668d88b2093",
            "value": "Map: 100%"
          }
        },
        "5ee0b79424234e5c835c1a02156a492e": {
          "model_module": "@jupyter-widgets/controls",
          "model_name": "FloatProgressModel",
          "model_module_version": "1.5.0",
          "state": {
            "_dom_classes": [],
            "_model_module": "@jupyter-widgets/controls",
            "_model_module_version": "1.5.0",
            "_model_name": "FloatProgressModel",
            "_view_count": null,
            "_view_module": "@jupyter-widgets/controls",
            "_view_module_version": "1.5.0",
            "_view_name": "ProgressView",
            "bar_style": "",
            "description": "",
            "description_tooltip": null,
            "layout": "IPY_MODEL_de0e5c528b37473593792234191ea47d",
            "max": 1379,
            "min": 0,
            "orientation": "horizontal",
            "style": "IPY_MODEL_e5b8a9b8244844be930cc5494939c54f",
            "value": 1379
          }
        },
        "9588892f8be440f18334c10c22578f59": {
          "model_module": "@jupyter-widgets/controls",
          "model_name": "HTMLModel",
          "model_module_version": "1.5.0",
          "state": {
            "_dom_classes": [],
            "_model_module": "@jupyter-widgets/controls",
            "_model_module_version": "1.5.0",
            "_model_name": "HTMLModel",
            "_view_count": null,
            "_view_module": "@jupyter-widgets/controls",
            "_view_module_version": "1.5.0",
            "_view_name": "HTMLView",
            "description": "",
            "description_tooltip": null,
            "layout": "IPY_MODEL_d6f6035b8e224757accc8b37c31d2fab",
            "placeholder": "​",
            "style": "IPY_MODEL_b906b2ed4e7c4111be8da94fc642ba98",
            "value": " 1379/1379 [00:00&lt;00:00, 3033.32 examples/s]"
          }
        },
        "8a3eb5d24a354ca084a65e1465802695": {
          "model_module": "@jupyter-widgets/base",
          "model_name": "LayoutModel",
          "model_module_version": "1.2.0",
          "state": {
            "_model_module": "@jupyter-widgets/base",
            "_model_module_version": "1.2.0",
            "_model_name": "LayoutModel",
            "_view_count": null,
            "_view_module": "@jupyter-widgets/base",
            "_view_module_version": "1.2.0",
            "_view_name": "LayoutView",
            "align_content": null,
            "align_items": null,
            "align_self": null,
            "border": null,
            "bottom": null,
            "display": null,
            "flex": null,
            "flex_flow": null,
            "grid_area": null,
            "grid_auto_columns": null,
            "grid_auto_flow": null,
            "grid_auto_rows": null,
            "grid_column": null,
            "grid_gap": null,
            "grid_row": null,
            "grid_template_areas": null,
            "grid_template_columns": null,
            "grid_template_rows": null,
            "height": null,
            "justify_content": null,
            "justify_items": null,
            "left": null,
            "margin": null,
            "max_height": null,
            "max_width": null,
            "min_height": null,
            "min_width": null,
            "object_fit": null,
            "object_position": null,
            "order": null,
            "overflow": null,
            "overflow_x": null,
            "overflow_y": null,
            "padding": null,
            "right": null,
            "top": null,
            "visibility": "hidden",
            "width": null
          }
        },
        "83d3bfd72d9146fbb27d3f269b5a9830": {
          "model_module": "@jupyter-widgets/base",
          "model_name": "LayoutModel",
          "model_module_version": "1.2.0",
          "state": {
            "_model_module": "@jupyter-widgets/base",
            "_model_module_version": "1.2.0",
            "_model_name": "LayoutModel",
            "_view_count": null,
            "_view_module": "@jupyter-widgets/base",
            "_view_module_version": "1.2.0",
            "_view_name": "LayoutView",
            "align_content": null,
            "align_items": null,
            "align_self": null,
            "border": null,
            "bottom": null,
            "display": null,
            "flex": null,
            "flex_flow": null,
            "grid_area": null,
            "grid_auto_columns": null,
            "grid_auto_flow": null,
            "grid_auto_rows": null,
            "grid_column": null,
            "grid_gap": null,
            "grid_row": null,
            "grid_template_areas": null,
            "grid_template_columns": null,
            "grid_template_rows": null,
            "height": null,
            "justify_content": null,
            "justify_items": null,
            "left": null,
            "margin": null,
            "max_height": null,
            "max_width": null,
            "min_height": null,
            "min_width": null,
            "object_fit": null,
            "object_position": null,
            "order": null,
            "overflow": null,
            "overflow_x": null,
            "overflow_y": null,
            "padding": null,
            "right": null,
            "top": null,
            "visibility": null,
            "width": null
          }
        },
        "f891e66b518c43e79c584668d88b2093": {
          "model_module": "@jupyter-widgets/controls",
          "model_name": "DescriptionStyleModel",
          "model_module_version": "1.5.0",
          "state": {
            "_model_module": "@jupyter-widgets/controls",
            "_model_module_version": "1.5.0",
            "_model_name": "DescriptionStyleModel",
            "_view_count": null,
            "_view_module": "@jupyter-widgets/base",
            "_view_module_version": "1.2.0",
            "_view_name": "StyleView",
            "description_width": ""
          }
        },
        "de0e5c528b37473593792234191ea47d": {
          "model_module": "@jupyter-widgets/base",
          "model_name": "LayoutModel",
          "model_module_version": "1.2.0",
          "state": {
            "_model_module": "@jupyter-widgets/base",
            "_model_module_version": "1.2.0",
            "_model_name": "LayoutModel",
            "_view_count": null,
            "_view_module": "@jupyter-widgets/base",
            "_view_module_version": "1.2.0",
            "_view_name": "LayoutView",
            "align_content": null,
            "align_items": null,
            "align_self": null,
            "border": null,
            "bottom": null,
            "display": null,
            "flex": null,
            "flex_flow": null,
            "grid_area": null,
            "grid_auto_columns": null,
            "grid_auto_flow": null,
            "grid_auto_rows": null,
            "grid_column": null,
            "grid_gap": null,
            "grid_row": null,
            "grid_template_areas": null,
            "grid_template_columns": null,
            "grid_template_rows": null,
            "height": null,
            "justify_content": null,
            "justify_items": null,
            "left": null,
            "margin": null,
            "max_height": null,
            "max_width": null,
            "min_height": null,
            "min_width": null,
            "object_fit": null,
            "object_position": null,
            "order": null,
            "overflow": null,
            "overflow_x": null,
            "overflow_y": null,
            "padding": null,
            "right": null,
            "top": null,
            "visibility": null,
            "width": null
          }
        },
        "e5b8a9b8244844be930cc5494939c54f": {
          "model_module": "@jupyter-widgets/controls",
          "model_name": "ProgressStyleModel",
          "model_module_version": "1.5.0",
          "state": {
            "_model_module": "@jupyter-widgets/controls",
            "_model_module_version": "1.5.0",
            "_model_name": "ProgressStyleModel",
            "_view_count": null,
            "_view_module": "@jupyter-widgets/base",
            "_view_module_version": "1.2.0",
            "_view_name": "StyleView",
            "bar_color": null,
            "description_width": ""
          }
        },
        "d6f6035b8e224757accc8b37c31d2fab": {
          "model_module": "@jupyter-widgets/base",
          "model_name": "LayoutModel",
          "model_module_version": "1.2.0",
          "state": {
            "_model_module": "@jupyter-widgets/base",
            "_model_module_version": "1.2.0",
            "_model_name": "LayoutModel",
            "_view_count": null,
            "_view_module": "@jupyter-widgets/base",
            "_view_module_version": "1.2.0",
            "_view_name": "LayoutView",
            "align_content": null,
            "align_items": null,
            "align_self": null,
            "border": null,
            "bottom": null,
            "display": null,
            "flex": null,
            "flex_flow": null,
            "grid_area": null,
            "grid_auto_columns": null,
            "grid_auto_flow": null,
            "grid_auto_rows": null,
            "grid_column": null,
            "grid_gap": null,
            "grid_row": null,
            "grid_template_areas": null,
            "grid_template_columns": null,
            "grid_template_rows": null,
            "height": null,
            "justify_content": null,
            "justify_items": null,
            "left": null,
            "margin": null,
            "max_height": null,
            "max_width": null,
            "min_height": null,
            "min_width": null,
            "object_fit": null,
            "object_position": null,
            "order": null,
            "overflow": null,
            "overflow_x": null,
            "overflow_y": null,
            "padding": null,
            "right": null,
            "top": null,
            "visibility": null,
            "width": null
          }
        },
        "b906b2ed4e7c4111be8da94fc642ba98": {
          "model_module": "@jupyter-widgets/controls",
          "model_name": "DescriptionStyleModel",
          "model_module_version": "1.5.0",
          "state": {
            "_model_module": "@jupyter-widgets/controls",
            "_model_module_version": "1.5.0",
            "_model_name": "DescriptionStyleModel",
            "_view_count": null,
            "_view_module": "@jupyter-widgets/base",
            "_view_module_version": "1.2.0",
            "_view_name": "StyleView",
            "description_width": ""
          }
        }
      }
    }
  },
  "nbformat": 4,
  "nbformat_minor": 0
}